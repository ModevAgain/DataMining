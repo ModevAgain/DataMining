{
 "cells": [
  {
   "cell_type": "markdown",
   "metadata": {},
   "source": [
    "# Data Mining Versuch Mobile User Analysis and Gender-Age-Group Prediction\n",
    "* Autor: Prof. Dr. Johannes Maucher\n",
    "* Datum: 04.10.2016\n",
    "\n",
    "[Übersicht Ipython Notebooks im Data Mining Praktikum](Data Mining Praktikum.ipynb)"
   ]
  },
  {
   "cell_type": "markdown",
   "metadata": {},
   "source": [
    "# Einführung\n",
    "\n",
    "## Kurzbeschreibung:\n",
    "\n",
    "In diesem Versuch werden die im Rahmen eines Kaggle-Contest [von _TalkingData_ bereitgestellten Daten](https://www.kaggle.com/c/talkingdata-mobile-user-demographics/data) analysiert. Die Daten enthalten für eine große Menge chinesischer User, Angaben zur Marke und Modell des Smartphones und zu den installierten und aktiven Apps. Ziel ist es aus den zur Verfügung stehenden Trainingsdaten ein Modell zu erlernen, das die Klassifikation der User in die jeweilige Gender-Age-Gruppe erlaubt. Für die Lösung dieser Aufgabe müssen sämtliche Schritte der Data Mining Prozesskette implementiert werden:\n",
    "\n",
    "1. Datenbeschaffung und Zugriff\n",
    "2. Datenauswahl: Welche der vorhandenen Daten sind für die gegebene Aufgabe tatsächlich relevant\n",
    "3. Datenbereinigung: Wie wird mit fehlenden und fehlerhaften Daten umgegangen?\n",
    "4. Datentransformation: Wie können aus den vorhandenen Daten informative Mermale gewonnen werden?\n",
    "5. Modellbildung: Unüberwachtes oder überwachtes erlernen eines Modells; Clustering-, Klassifikations- oder Regressionsmodell.\n",
    "6. Evaluation, Visualisierung und Interpretation der Daten/Ergebnisse\n",
    "\n",
    "## Lernziele:\n",
    "In diesem Versuch sollen Kenntnisse in folgenden Themen vermittelt werden:\n",
    "\n",
    "* Zugriff auf Daten in .csv Files\n",
    "* Zugriff auf Daten in SQLite Files\n",
    "* Statistische Analyse und Visualisierung von Daten\n",
    "* Implementierung der oben genannten Data Mining Prozessschritte, insbesondere:\n",
    "\n",
    "    * Feature-Engineering: Berechnung von für die gegebene Aufgabe relevanter Daten aus Rohdaten\n",
    "    * Clustering (unüberwachtes Lernen) \n",
    "    * Klassifikation/Prädiktion (überwachtes Lernen) mit verschiedenen Machine Learning Verfahren\n",
    "    * Evaluation von Klassifikationsverfahren\n",
    "\n",
    "## Aufgaben zur Vorbereitung\n",
    "\n",
    "1. Laden Sie die Daten entweder vom Skripteserver oder direkt von [Kaggle](https://www.kaggle.com/c/talkingdata-mobile-user-demographics/data) herunter und versuchen Sie die Daten anhand dieser [Beschreibung](https://www.kaggle.com/c/talkingdata-mobile-user-demographics/data) zu verstehen.\n",
    "2. In diesem Versuch soll die Gender-Age-Group von Smartphone-Usern vorhergesagt werden. Überlegen Sie sich welche der vorhandenen Daten für diese Vorhersage relevant sein könnten.\n",
    "3. Für die Vorhersage kann ein beliebiger Klassifikationsalgorithmus aus dem Bereich des überwachten Lernens eingesetzt werden. Das Prinzip des überwachten Lernens und das entsprechende Testen des gelernten Modells ist in der unten aufgeführten Abbildung dargestellt. Machen Sie sich mit diesem Prinzip vertraut.\n",
    "\n",
    "4. Für das überwachte Lernen sind gelabelte Daten (Soll-Ausgabe) notwendig. In diesem Versuch ist die Ausgabe die Gender-Age-Group der User. Im File *gender\\_age\\_train.csv* ist für 74645 User (devices) die zugehörigen Gender-Age-Group angegeben. Die Menge aller gelabelten Daten muss für die Modellvalidierung in disjunkte Trainings- und Testpartitionen unterteilt werden. In diesem Versuch kommt sowohl eine einfache Partitionierung in Trainings- und Testdaten als auch eine Kreuzvalidierung zum Einsatz ([KI-Vorlesung](https://www.mi.hdm-stuttgart.de/mib/studium/intern/skripteserver/skripte/Einfuehrung_Kuenstliche_Intelligenz/WS1516/06_PartLernen1.pdf)). Machen Sie sich mit dem Prinzip der Kreuzvalidierung (Abbildung unten) vertraut.\n",
    "\n",
    "5. Den meisten Machine Learning-Algorithmen können kategoriale Parameter nicht direkt übergeben werden. Diese Parameter werden typisch *One-Hot* encodiert. Machen Sie sich mit diesem Prinzip vertraut.\n",
    "\n",
    "6. In diesem Versuch soll ein Multilayer-Perzeptron (MLP) als Klassifikator eingesetzt werden. Machen Sie sich mit dem MLP vertraut. [KI-Vorlesung](https://www.mi.hdm-stuttgart.de/mib/studium/intern/skripteserver/skripte/Einfuehrung_Kuenstliche_Intelligenz/WS1516/09_PartLernen4.pdf), [MLP in Scikit-Learn](http://scikit-learn.org/stable/modules/neural_networks_supervised.html).\n",
    "\n",
    "**Prinzip überwachtes Lernen und Validierung:**\n",
    "![Prinzip überwachtes Lernen](https://www.hdm-stuttgart.de/~maucher/ipnotebooks/DataMining//Bilder/SupervisedLarningSchemaValidation.png \"Überwachtes Lernen Schema\")\n",
    "\n",
    "\n",
    "\n",
    "\n",
    "\n",
    "**Prinzip der 10-fachen Kreuzvalidierung:**\n",
    "\n",
    "![Kreuzvalidierung](https://www.hdm-stuttgart.de/~maucher/ipnotebooks/DataMining//Bilder/CrossValidation.jpg \"Cross-Validation\")"
   ]
  },
  {
   "cell_type": "markdown",
   "metadata": {},
   "source": [
    "# Durchführung\n",
    "## Datenzugriff\n",
    "Die Daten sind in insgesamt 7 .csv Files organisiert (das File sample_submission.csv wird nicht benötigt). Die einzelnen .csv Dateien sind z.T. sehr groß. In diesem Fall bietet es sich an, nicht das ganze File in einen Pandas-Dataframe zu laden, sondern das .csv-File zunächst in eine Datenbank zu schreiben und dann auf diese dediziert zuzugreifen. \n",
    "\n",
    "_Tipp:_ Mit der auf dem Skripteserver bereitgestellten Datei _brandMap.txt_, können die chinesischen Schriftzeichen in den Markennamen übersetzt werden.\n",
    "\n",
    "**Aufgaben:**\n",
    "\n",
    "1. Lesen Sie jedes der .csv Files in chunks von jeweils ca. 20000 Zeilen in einen Pandas Dataframe ein und schreiben Sie die Daten chunk für chunk in eine SQLite Database. Für das Einlesen ist die Pandas-Methode [read_csv()](http://pandas.pydata.org/pandas-docs/stable/generated/pandas.read_csv.html) mit dem Parameter _chunksize_ zu verwenden. Für das schreiben der Daten aus dem Pandas Dataframe in die SQLite Datenbank ist die Pandas-Methode [to_sql()](http://pandas.pydata.org/pandas-docs/stable/generated/pandas.DataFrame.to_sql.html) zu verwenden. Für jedes .csv File soll in der SQLite-DB eine eigene Tabelle angelegt werden. Als DB-connector soll eine engine-Instanz des _SQLAlchemy_-Pakets mit der Methode create\\_engine() angelegt werden. Siehe z.B. [SQLAlchemy Doku](http://docs.sqlalchemy.org/en/latest/core/engines.html).\n",
    "\n",
    "2. Nachdem alle Tabellen der DB angelegt sind, sollen aus jeder Tabelle die ersten 10 Zeilen mit der Pandas Methode [read_sql_query()](http://pandas.pydata.org/pandas-docs/stable/generated/pandas.read_sql_query.html) abgefragt und angezeigt werden. Ausserdem ist für jede Tabelle die Größe (Anzahl der Zeilen) auszugeben.\n",
    "3. Wie viele verschiedene devices befinden sich in der Tabelle, welche die Daten aus gender\\_age\\_train.csv enthält?\n",
    "4. Wie viele verschiedene devices befinden sich in der Tabelle, welche die Daten aus events.csv enthält?\n",
    "5. Wie viele verschiedene devices kommen in beiden dieser Tabellen vor? \n"
   ]
  },
  {
   "cell_type": "code",
   "execution_count": 78,
   "metadata": {
    "collapsed": true
   },
   "outputs": [],
   "source": [
    "import pandas as pd"
   ]
  },
  {
   "cell_type": "code",
   "execution_count": 5,
   "metadata": {
    "collapsed": true
   },
   "outputs": [
    {
     "name": "stdout",
     "output_type": "stream",
     "text": [
      "    event_id            device_id            timestamp  longitude  latitude\n",
      "0          1    29182687948017175  2016-05-01 00:55:25     121.38     31.24\n",
      "1          2 -6401643145415154744  2016-05-01 00:54:12     103.65     30.97\n",
      "2          3 -4833982096941402721  2016-05-01 00:08:05     106.60     29.70\n",
      "3          4 -6815121365017318426  2016-05-01 00:06:40     104.27     23.28\n",
      "4          5 -5373797595892518570  2016-05-01 00:07:18     115.88     28.66\n",
      "5          6  1476664663289716375  2016-05-01 00:27:21       0.00      0.00\n",
      "6          7  5990807147117726237  2016-05-01 00:15:13     113.73     23.00\n",
      "7          8  1782450055857303792  2016-05-01 00:15:35     113.94     34.70\n",
      "8          9 -2073340001552902943  2016-05-01 00:15:33       0.00      0.00\n",
      "9         10 -8195816569128397698  2016-05-01 00:41:31     119.34     26.04\n",
      "10        11  8663743929678393765  2016-05-01 00:44:13     106.71     39.51\n",
      "11        12  8663743929678393765  2016-05-01 00:45:30     106.71     39.51\n",
      "12        13  8640114685470534007  2016-05-01 00:44:53     117.73     34.92\n",
      "13        14 -5373797595892518570  2016-05-01 00:36:21     115.88     28.66\n",
      "14        15  2504414082456157897  2016-05-01 00:40:45     120.62     31.31\n",
      "15        16  9070651185984875886  2016-05-01 00:06:06       0.00      0.00\n",
      "16        17  -460438353776005388  2016-05-01 00:06:33     118.44     24.71\n",
      "17        18  2271670507584822423  2016-05-01 00:06:27     111.46     35.64\n",
      "18        19  9161556264947841692  2016-05-01 00:17:37       0.00      0.00\n",
      "19        20  6130108008013735751  2016-05-01 00:17:33     129.51     42.91\n"
     ]
    }
   ],
   "source": [
    "test2 = pd.read_csv(\"events.csv\", nrows=20)\n",
    "print(test2)"
   ]
  },
  {
   "cell_type": "code",
   "execution_count": 7,
   "metadata": {
    "collapsed": true
   },
   "outputs": [
    {
     "name": "stdout",
     "output_type": "stream",
     "text": [
      "              device_id\n",
      "0   1002079943728939269\n",
      "1  -1547860181818787117\n",
      "2   7374582448058474277\n",
      "3  -6220210354783429585\n",
      "4  -5893464122623104785\n",
      "5  -7560708697029818408\n",
      "6    289797889702373958\n",
      "7   -402874006399730161\n",
      "8   5751283639860028129\n",
      "9   -848943298935149395\n",
      "10  6873889408535437611\n",
      "11  9097600484609173263\n",
      "12  7918118984690678938\n",
      "13 -5723359257508971431\n",
      "14 -5045999078783569038\n",
      "15 -4466603005916311099\n",
      "16  6130118150534832946\n",
      "17  2245330978838477229\n",
      "18  6261900729835972204\n",
      "19   501940708836600976\n"
     ]
    }
   ],
   "source": [
    "test3 = pd.read_csv(\"gender_age_test.csv\", nrows=20)\n",
    "print(test3)"
   ]
  },
  {
   "cell_type": "code",
   "execution_count": 8,
   "metadata": {
    "collapsed": true
   },
   "outputs": [
    {
     "name": "stdout",
     "output_type": "stream",
     "text": [
      "              device_id gender  age agegroup\n",
      "0  -8076087639492063270      M   35   M32-38\n",
      "1  -2897161552818060146      M   35   M32-38\n",
      "2  -8260683887967679142      M   35   M32-38\n",
      "3  -4938849341048082022      M   30   M29-31\n",
      "4    245133531816851882      M   30   M29-31\n",
      "5  -1297074871525174196      F   24   F24-26\n",
      "6    236877999787307864      M   36   M32-38\n",
      "7  -8098239495777311881      M   38   M32-38\n",
      "8    176515041953473526      M   33   M32-38\n",
      "9   1596610250680140042      F   36   F33-42\n",
      "10  9032155484127182494      M   31   M29-31\n",
      "11  7477216237379271436      F   37   F33-42\n",
      "12  2478205222798310601      F   28   F27-28\n",
      "13  6352067998666467520      M   32   M32-38\n",
      "14 -7605360767281960867      M   48     M39+\n",
      "15  1508636020748379883      F   28   F27-28\n",
      "16  4380872794486415327      M   38   M32-38\n",
      "17 -1039701474753771322      M   38   M32-38\n",
      "18 -6876541075223249434      M   75     M39+\n",
      "19  6287938418661076759      M   33   M32-38\n"
     ]
    }
   ],
   "source": [
    "test3 = pd.read_csv(\"gender_age_train.csv\", nrows=20)\n",
    "print(test3)"
   ]
  },
  {
   "cell_type": "code",
   "execution_count": 10,
   "metadata": {
    "collapsed": true
   },
   "outputs": [
    {
     "name": "stdout",
     "output_type": "stream",
     "text": [
      "    label_id                  category\n",
      "0          1                       NaN\n",
      "1          2            game-game type\n",
      "2          3          game-Game themes\n",
      "3          4            game-Art Style\n",
      "4          5         game-Leisure time\n",
      "5          6       game-Cutting things\n",
      "6          7        game-Finding fault\n",
      "7          8      game-stress reliever\n",
      "8          9                  game-pet\n",
      "9         10               game-Answer\n",
      "10        11              game-Fishing\n",
      "11        12      game-Music and Dance\n",
      "12        13               game-Puzzle\n",
      "13        14     game-Adventure puzzle\n",
      "14        15       game-Parkour Racing\n",
      "15        16              game-Parkour\n",
      "16        17               game-Racing\n",
      "17        18           game-Motorcycle\n",
      "18        19               game-Rowing\n",
      "19        20             game-aircraft\n",
      "20        21      game-Gem Elimination\n",
      "21        22                  game-Box\n",
      "22        23                  game-gem\n",
      "23        24          game-Lianliankan\n",
      "24        25                 game-Zuma\n",
      "25        26               game-Bobble\n",
      "26        27              game-Cartoon\n",
      "27        28          game-Online game\n",
      "28        29  game-Role -playing games\n",
      "29        30   game-Competitive action\n",
      "30        31              game-Tactics\n",
      "31        32                 game-card\n",
      "32        33  game-Business simulation\n",
      "33        34      game-Action Shooting\n",
      "34        35   game-Horizontal version\n",
      "35        36             game-shooting\n",
      "36        37                   game-3D\n",
      "37        38               game-flight\n",
      "38        39                 game-tank\n",
      "39        40                game-Snipe\n",
      "40        41           poker and chess\n",
      "41        42       poker game_doudizhu\n",
      "42        43                     chess\n",
      "43        44                   majiang\n",
      "44        45                table game\n",
      "45        46               Texas Poker\n",
      "46        47                     poker\n",
      "47        48      Children puzzle game\n",
      "48        49                    Puzzle\n",
      "49        50            Literacy Games\n"
     ]
    }
   ],
   "source": [
    "test3 = pd.read_csv(\"label_categories.csv\", nrows=50)\n",
    "print(test3)"
   ]
  },
  {
   "cell_type": "code",
   "execution_count": 11,
   "metadata": {
    "collapsed": true
   },
   "outputs": [
    {
     "name": "stdout",
     "output_type": "stream",
     "text": [
      "              device_id phone_brand   device_model\n",
      "0  -8890648629457979026          小米             红米\n",
      "1   1277779817574759137          小米           MI 2\n",
      "2   5137427614288105724          三星      Galaxy S4\n",
      "3   3669464369358936369       SUGAR           时尚手机\n",
      "4  -5019277647504317457          三星  Galaxy Note 2\n",
      "5   3238009352149731868          华为           Mate\n",
      "6  -3883532755183027260          小米          MI 2S\n",
      "7  -2972199645857147708          华为          G610S\n",
      "8  -5827952925479472594          小米    MI One Plus\n",
      "9  -8262508968076336275        vivo            S7I\n",
      "10  5840378295166286440          三星      Galaxy S3\n",
      "11 -5776341595519925628          小米          MI 2A\n",
      "12  3437705102632680210          三星      Galaxy S3\n",
      "13 -3568334676360016285          三星      Galaxy S3\n",
      "14   556978549708484782          小米           MI 2\n",
      "15  5694497738268412307          小米           MI 3\n",
      "16  6327116114284382479          华为      G520-0000\n",
      "17   773248989809697210        vivo          X5Pro\n",
      "18  -686020914357018824          小米          MI 2S\n",
      "19  6936613487637228956          魅族            MX2\n",
      "20 -3875043166283300758          三星  Galaxy Note 2\n",
      "21 -6964140211214884922          小米          MI 2S\n",
      "22   -30236203766311351          小米          MI 2S\n",
      "23  4887985552773989409        vivo          Xplay\n",
      "24  7206202610070842107          三星  Galaxy Note 2\n",
      "25   -39620037751344714          小米          MI 2S\n",
      "26  7223189369472462826          酷派           7270\n",
      "27 -3998002640294516352          天语        Touch 3\n",
      "28  2527845705328727233        OPPO          R2017\n",
      "29 -3157952721100703520          三星  Galaxy Note 2\n",
      "30 -6083057230710001248          中兴           795+\n",
      "31 -4083221898711926203          酷派         大神Note\n",
      "32 -4523542780146466405        vivo            Y3T\n",
      "33 -5913071468598874323          三星          S7566\n",
      "34 -2339363715932966819          小米    MI One Plus\n",
      "35  4106908628505542038          金立         GN708W\n",
      "36  -613324030015638453          联想      乐檬K3 Note\n",
      "37 -2943457097948271624          三星  Galaxy Note 2\n",
      "38 -8617503367917252519          三星      Galaxy S4\n",
      "39  8749105586608216142          小米          MI 1S\n",
      "40  1170363371146351661          联想          A820t\n",
      "41 -5155397683752679020          华为           荣耀3C\n",
      "42  3933889243973057197          小米             红米\n",
      "43  7257880420181554729          小米          MI 2A\n",
      "44  1234582813120123953          三星      Galaxy S2\n",
      "45 -4733939105220796309          三星      Galaxy S4\n",
      "46  8879737470175624918          小米          MI 2A\n",
      "47 -8763379009069417607          海信          EG966\n",
      "48 -1183635331565164049          三星      Galaxy S2\n",
      "49  3379712123596745643          小米             红米\n"
     ]
    }
   ],
   "source": [
    "test3 = pd.read_csv(\"phone_brand_device_model.csv\", nrows=50)\n",
    "print(test3)"
   ]
  },
  {
   "cell_type": "code",
   "execution_count": 14,
   "metadata": {
    "collapsed": false
   },
   "outputs": [
    {
     "name": "stdout",
     "output_type": "stream",
     "text": [
      "<sqlalchemy.engine.result.ResultProxy object at 0x000001D653C825F8>\n"
     ]
    }
   ],
   "source": [
    "from sqlalchemy import create_engine\n",
    "#Windows\n",
    "engine = create_engine('sqlite:///C:\\\\sqlite\\\\v01.db')\n",
    "connection = engine.connect()\n",
    "result = connection.execute(\"select * from app_events\")\n",
    "print(result)"
   ]
  },
  {
   "cell_type": "code",
   "execution_count": 43,
   "metadata": {
    "collapsed": false
   },
   "outputs": [],
   "source": [
    "csvs = [\"label_categories\",\"app_events\",\"app_labels\",\"events\",\"gender_age_test\",\"gender_age_train\",\"phone_brand_device_model\"]\n",
    "\n",
    "for csv in csvs:\n",
    "    for chunk in pd.read_csv(csv+\".csv\", chunksize=20000):\n",
    "        chunk.to_sql(csv,connection,if_exists='append',index=False)"
   ]
  },
  {
   "cell_type": "code",
   "execution_count": 17,
   "metadata": {
    "collapsed": false
   },
   "outputs": [
    {
     "name": "stdout",
     "output_type": "stream",
     "text": [
      "Engine(sqlite:///C:\\sqlite\\v01.db)\n"
     ]
    }
   ],
   "source": [
    "print(engine)"
   ]
  },
  {
   "cell_type": "code",
   "execution_count": 59,
   "metadata": {
    "collapsed": false,
    "scrolled": true
   },
   "outputs": [
    {
     "name": "stdout",
     "output_type": "stream",
     "text": [
      "tabelle:   label_categories has 1860 rows\n",
      "   label_id              category\n",
      "0         1                  None\n",
      "1         2        game-game type\n",
      "2         3      game-Game themes\n",
      "3         4        game-Art Style\n",
      "4         5     game-Leisure time\n",
      "5         6   game-Cutting things\n",
      "6         7    game-Finding fault\n",
      "7         8  game-stress reliever\n",
      "8         9              game-pet\n",
      "9        10           game-Answer\n",
      "\n",
      "\n",
      "tabelle:   app_events has 32473067 rows\n",
      "   event_id               app_id  is_installed  is_active\n",
      "0         2  5927333115845830913             1          1\n",
      "1         2 -5720078949152207372             1          0\n",
      "2         2 -1633887856876571208             1          0\n",
      "3         2  -653184325010919369             1          1\n",
      "4         2  8693964245073640147             1          1\n",
      "5         2  4775896950989639373             1          1\n",
      "6         2 -8022267440849930066             1          0\n",
      "7         2  9112463267739110219             1          0\n",
      "8         2 -3725672010020973973             1          0\n",
      "9         2  7167114343576723123             1          1\n",
      "\n",
      "\n",
      "tabelle:   app_labels has 459943 rows\n",
      "                app_id  label_id\n",
      "0  7324884708820027918       251\n",
      "1 -4494216993218550286       251\n",
      "2  6058196446775239644       406\n",
      "3  6058196446775239644       407\n",
      "4  8694625920731541625       406\n",
      "5  8694625920731541625       407\n",
      "6  1977658975649789753       406\n",
      "7  1977658975649789753       407\n",
      "8  7311663864768030840       256\n",
      "9  5902120154267999338       256\n",
      "\n",
      "\n",
      "tabelle:   events has 3252950 rows\n",
      "   event_id            device_id            timestamp  longitude  latitude\n",
      "0         1    29182687948017175  2016-05-01 00:55:25     121.38     31.24\n",
      "1         2 -6401643145415154744  2016-05-01 00:54:12     103.65     30.97\n",
      "2         3 -4833982096941402721  2016-05-01 00:08:05     106.60     29.70\n",
      "3         4 -6815121365017318426  2016-05-01 00:06:40     104.27     23.28\n",
      "4         5 -5373797595892518570  2016-05-01 00:07:18     115.88     28.66\n",
      "5         6  1476664663289716375  2016-05-01 00:27:21       0.00      0.00\n",
      "6         7  5990807147117726237  2016-05-01 00:15:13     113.73     23.00\n",
      "7         8  1782450055857303792  2016-05-01 00:15:35     113.94     34.70\n",
      "8         9 -2073340001552902943  2016-05-01 00:15:33       0.00      0.00\n",
      "9        10 -8195816569128397698  2016-05-01 00:41:31     119.34     26.04\n",
      "\n",
      "\n",
      "tabelle:   gender_age_test has 112071 rows\n",
      "             device_id\n",
      "0  1002079943728939269\n",
      "1 -1547860181818787117\n",
      "2  7374582448058474277\n",
      "3 -6220210354783429585\n",
      "4 -5893464122623104785\n",
      "5 -7560708697029818408\n",
      "6   289797889702373958\n",
      "7  -402874006399730161\n",
      "8  5751283639860028129\n",
      "9  -848943298935149395\n",
      "\n",
      "\n",
      "tabelle:   gender_age_train has 74645 rows\n",
      "             device_id gender  age agegroup\n",
      "0 -8076087639492063270      M   35   M32-38\n",
      "1 -2897161552818060146      M   35   M32-38\n",
      "2 -8260683887967679142      M   35   M32-38\n",
      "3 -4938849341048082022      M   30   M29-31\n",
      "4   245133531816851882      M   30   M29-31\n",
      "5 -1297074871525174196      F   24   F24-26\n",
      "6   236877999787307864      M   36   M32-38\n",
      "7 -8098239495777311881      M   38   M32-38\n",
      "8   176515041953473526      M   33   M32-38\n",
      "9  1596610250680140042      F   36   F33-42\n",
      "\n",
      "\n",
      "tabelle:   phone_brand_device_model has 187245 rows\n",
      "             device_id phone_brand   device_model\n",
      "0 -8890648629457979026          小米             红米\n",
      "1  1277779817574759137          小米           MI 2\n",
      "2  5137427614288105724          三星      Galaxy S4\n",
      "3  3669464369358936369       SUGAR           时尚手机\n",
      "4 -5019277647504317457          三星  Galaxy Note 2\n",
      "5  3238009352149731868          华为           Mate\n",
      "6 -3883532755183027260          小米          MI 2S\n",
      "7 -2972199645857147708          华为          G610S\n",
      "8 -5827952925479472594          小米    MI One Plus\n",
      "9 -8262508968076336275        vivo            S7I\n",
      "\n",
      "\n"
     ]
    }
   ],
   "source": [
    "for csv in csvs:\n",
    "    \n",
    "    data = pd.read_sql_query(\"select * from \"+csv+\" LIMIT 10;\",connection)\n",
    "    number = pd.read_sql_query(\"select Count(*) FROM \"+csv+\";\",connection)\n",
    "    print(\"tabelle:   \"+csv+ \" has \"+str(number.iloc[0,0])+\" rows\")\n",
    "    print(data)\n",
    "    print(\"\\n\")"
   ]
  },
  {
   "cell_type": "code",
   "execution_count": 67,
   "metadata": {
    "collapsed": false
   },
   "outputs": [
    {
     "name": "stdout",
     "output_type": "stream",
     "text": [
      "74645\n"
     ]
    }
   ],
   "source": [
    "unique_devices_gat = pd.read_sql_query(\"SELECT COUNT(*) FROM (SELECT DISTINCT device_id FROM  gender_age_train);\",connection)\n",
    "print(unique_devices_gat.iloc[0,0])"
   ]
  },
  {
   "cell_type": "code",
   "execution_count": 68,
   "metadata": {
    "collapsed": false
   },
   "outputs": [
    {
     "name": "stdout",
     "output_type": "stream",
     "text": [
      "60865\n"
     ]
    }
   ],
   "source": [
    "unique_devices_events = pd.read_sql_query(\"SELECT COUNT(*) FROM (SELECT DISTINCT device_id FROM  events);\",connection)\n",
    "print(unique_devices_events.iloc[0,0])"
   ]
  },
  {
   "cell_type": "code",
   "execution_count": 107,
   "metadata": {
    "collapsed": false,
    "scrolled": false
   },
   "outputs": [],
   "source": [
    "unique_devices_events = pd.read_sql_query(\"SELECT device_id FROM events;\",connection)\n",
    "unique_devices_gat = pd.read_sql_query(\"SELECT device_id FROM gender_age_train;\",connection)\n"
   ]
  },
  {
   "cell_type": "code",
   "execution_count": 108,
   "metadata": {
    "collapsed": true
   },
   "outputs": [],
   "source": [
    "import numpy as np"
   ]
  },
  {
   "cell_type": "markdown",
   "metadata": {},
   "source": [
    "Wieviele einzigartige devices sind in beiden Tabellen?"
   ]
  },
  {
   "cell_type": "code",
   "execution_count": 109,
   "metadata": {
    "collapsed": false
   },
   "outputs": [
    {
     "data": {
      "text/plain": [
       "112201"
      ]
     },
     "execution_count": 109,
     "metadata": {},
     "output_type": "execute_result"
    }
   ],
   "source": [
    "len(set(unique_devices_events.device_id.values.tolist()+unique_devices_gat.device_id.values.tolist()))"
   ]
  },
  {
   "cell_type": "markdown",
   "metadata": {},
   "source": [
    "Wieviele devices sind in BEIDEN Tabellen eingetragen?"
   ]
  },
  {
   "cell_type": "code",
   "execution_count": 121,
   "metadata": {
    "collapsed": false
   },
   "outputs": [],
   "source": [
    "both = pd.read_sql_query(\"SELECT count(distinct events.device_id) FROM events INNER JOIN gender_age_train ON gender_age_train.device_id = events.device_id;\",connection)"
   ]
  },
  {
   "cell_type": "code",
   "execution_count": 124,
   "metadata": {
    "collapsed": false,
    "scrolled": true
   },
   "outputs": [
    {
     "name": "stdout",
     "output_type": "stream",
     "text": [
      "   device_id)\n",
      "0       23309\n"
     ]
    }
   ],
   "source": [
    "print(both)"
   ]
  },
  {
   "cell_type": "code",
   "execution_count": 88,
   "metadata": {
    "collapsed": false
   },
   "outputs": [
    {
     "name": "stdout",
     "output_type": "stream",
     "text": [
      "[   29182687948017175 -6401643145415154744 -4833982096941402721 ...,\n",
      "  2390927717095168323 -7754266053633390277 -1184626127904161598]\n"
     ]
    }
   ],
   "source": [
    "print(a)"
   ]
  },
  {
   "cell_type": "code",
   "execution_count": null,
   "metadata": {
    "collapsed": true
   },
   "outputs": [],
   "source": [
    "set([unique_devices_events.device_id.as_matrix,unique_devices_gat.device_id.as_matrix])"
   ]
  },
  {
   "cell_type": "code",
   "execution_count": 79,
   "metadata": {
    "collapsed": false
   },
   "outputs": [
    {
     "data": {
      "text/plain": [
       "pandas.core.series.Series"
      ]
     },
     "execution_count": 79,
     "metadata": {},
     "output_type": "execute_result"
    }
   ],
   "source": [
    "type(unique_devices_events.device_id)"
   ]
  },
  {
   "cell_type": "markdown",
   "metadata": {
    "collapsed": true
   },
   "source": [
    "## Deskriptive Statistik\n",
    "\n",
    "In der obigen Teilaufgabe sollte die Schnittstelle zwischen Pandas Dataframes und Datenbanken (hier SQLite) demonstriert werden. Diese Art von Datenhandling eignet sich besonders im Fall sehr großer Datenmengen, die nicht im Arbeitsspeicher gehalten werden können. Die Dateien in diesem Versuch sind tatsächlich nicht so groß, dass sie nicht als ganzes in Pandas-Dataframes geladen werden könnten. In allen folgenden Teilversuchen ist Ihnen freigestellt, ob Sie mit der Datenbank-Variante oder der in-memory Variante (alle Daten im Pandas-Dataframe) arbeiten.\n",
    "\n",
    "### Verteilung der User über die Gender-Age-Gruppen\n",
    "\n",
    "Die Menge aller User wird in 12 verschiedene Gender-Age-Groups unterteilt. Bestimmen Sie die Verteilung der User in der *gender\\_age\\_train*-Tabelle über diese 12 Gruppen und viusalisieren Sie diese Verteilung in einem [Matplotlib Bar Chart](http://matplotlib.org/api/pyplot_api.html). \n",
    " "
   ]
  },
  {
   "cell_type": "code",
   "execution_count": 126,
   "metadata": {
    "collapsed": false
   },
   "outputs": [],
   "source": [
    "gender_age_groups = pd.read_sql_query(\"select agegroup from gender_age_train;\",connection)"
   ]
  },
  {
   "cell_type": "code",
   "execution_count": 161,
   "metadata": {
    "collapsed": false,
    "scrolled": true
   },
   "outputs": [
    {
     "data": {
      "text/html": [
       "<div>\n",
       "<table border=\"1\" class=\"dataframe\">\n",
       "  <thead>\n",
       "    <tr style=\"text-align: right;\">\n",
       "      <th></th>\n",
       "      <th>agegroup</th>\n",
       "    </tr>\n",
       "  </thead>\n",
       "  <tbody>\n",
       "    <tr>\n",
       "      <th>1</th>\n",
       "      <td>M32-38</td>\n",
       "    </tr>\n",
       "    <tr>\n",
       "      <th>2</th>\n",
       "      <td>M32-38</td>\n",
       "    </tr>\n",
       "    <tr>\n",
       "      <th>3</th>\n",
       "      <td>M29-31</td>\n",
       "    </tr>\n",
       "    <tr>\n",
       "      <th>4</th>\n",
       "      <td>M29-31</td>\n",
       "    </tr>\n",
       "    <tr>\n",
       "      <th>5</th>\n",
       "      <td>F24-26</td>\n",
       "    </tr>\n",
       "    <tr>\n",
       "      <th>6</th>\n",
       "      <td>M32-38</td>\n",
       "    </tr>\n",
       "    <tr>\n",
       "      <th>7</th>\n",
       "      <td>M32-38</td>\n",
       "    </tr>\n",
       "    <tr>\n",
       "      <th>8</th>\n",
       "      <td>M32-38</td>\n",
       "    </tr>\n",
       "    <tr>\n",
       "      <th>9</th>\n",
       "      <td>F33-42</td>\n",
       "    </tr>\n",
       "    <tr>\n",
       "      <th>10</th>\n",
       "      <td>M29-31</td>\n",
       "    </tr>\n",
       "    <tr>\n",
       "      <th>11</th>\n",
       "      <td>F33-42</td>\n",
       "    </tr>\n",
       "    <tr>\n",
       "      <th>12</th>\n",
       "      <td>F27-28</td>\n",
       "    </tr>\n",
       "    <tr>\n",
       "      <th>13</th>\n",
       "      <td>M32-38</td>\n",
       "    </tr>\n",
       "    <tr>\n",
       "      <th>14</th>\n",
       "      <td>M39+</td>\n",
       "    </tr>\n",
       "    <tr>\n",
       "      <th>15</th>\n",
       "      <td>F27-28</td>\n",
       "    </tr>\n",
       "    <tr>\n",
       "      <th>16</th>\n",
       "      <td>M32-38</td>\n",
       "    </tr>\n",
       "    <tr>\n",
       "      <th>17</th>\n",
       "      <td>M32-38</td>\n",
       "    </tr>\n",
       "    <tr>\n",
       "      <th>18</th>\n",
       "      <td>M39+</td>\n",
       "    </tr>\n",
       "    <tr>\n",
       "      <th>19</th>\n",
       "      <td>M32-38</td>\n",
       "    </tr>\n",
       "    <tr>\n",
       "      <th>20</th>\n",
       "      <td>F33-42</td>\n",
       "    </tr>\n",
       "    <tr>\n",
       "      <th>21</th>\n",
       "      <td>M23-26</td>\n",
       "    </tr>\n",
       "    <tr>\n",
       "      <th>22</th>\n",
       "      <td>M23-26</td>\n",
       "    </tr>\n",
       "    <tr>\n",
       "      <th>23</th>\n",
       "      <td>M27-28</td>\n",
       "    </tr>\n",
       "    <tr>\n",
       "      <th>24</th>\n",
       "      <td>M29-31</td>\n",
       "    </tr>\n",
       "    <tr>\n",
       "      <th>25</th>\n",
       "      <td>M32-38</td>\n",
       "    </tr>\n",
       "    <tr>\n",
       "      <th>26</th>\n",
       "      <td>M32-38</td>\n",
       "    </tr>\n",
       "    <tr>\n",
       "      <th>27</th>\n",
       "      <td>F33-42</td>\n",
       "    </tr>\n",
       "    <tr>\n",
       "      <th>28</th>\n",
       "      <td>M32-38</td>\n",
       "    </tr>\n",
       "    <tr>\n",
       "      <th>29</th>\n",
       "      <td>M32-38</td>\n",
       "    </tr>\n",
       "  </tbody>\n",
       "</table>\n",
       "</div>"
      ],
      "text/plain": [
       "   agegroup\n",
       "1    M32-38\n",
       "2    M32-38\n",
       "3    M29-31\n",
       "4    M29-31\n",
       "5    F24-26\n",
       "6    M32-38\n",
       "7    M32-38\n",
       "8    M32-38\n",
       "9    F33-42\n",
       "10   M29-31\n",
       "11   F33-42\n",
       "12   F27-28\n",
       "13   M32-38\n",
       "14     M39+\n",
       "15   F27-28\n",
       "16   M32-38\n",
       "17   M32-38\n",
       "18     M39+\n",
       "19   M32-38\n",
       "20   F33-42\n",
       "21   M23-26\n",
       "22   M23-26\n",
       "23   M27-28\n",
       "24   M29-31\n",
       "25   M32-38\n",
       "26   M32-38\n",
       "27   F33-42\n",
       "28   M32-38\n",
       "29   M32-38"
      ]
     },
     "execution_count": 161,
     "metadata": {},
     "output_type": "execute_result"
    }
   ],
   "source": [
    "gender_age_groups.iloc[1:30,:]"
   ]
  },
  {
   "cell_type": "code",
   "execution_count": 2,
   "metadata": {
    "collapsed": true
   },
   "outputs": [],
   "source": [
    "%matplotlib inline\n",
    "from matplotlib import pyplot as plt"
   ]
  },
  {
   "cell_type": "code",
   "execution_count": 160,
   "metadata": {
    "collapsed": false,
    "scrolled": false
   },
   "outputs": [
    {
     "data": {
      "text/plain": [
       "<matplotlib.axes._subplots.AxesSubplot at 0x17f1d5a2a20>"
      ]
     },
     "execution_count": 160,
     "metadata": {},
     "output_type": "execute_result"
    },
    {
     "data": {
      "image/png": "[encoded data removed]",
      "text/plain": [
       "<matplotlib.figure.Figure at 0x17f1a269ef0>"
      ]
     },
     "metadata": {},
     "output_type": "display_data"
    }
   ],
   "source": [
    "#gender_age_groups.hist(column=\"agegroup\")\n",
    "\n",
    "gender_age_groups.agegroup.value_counts().plot(kind=\"bar\")"
   ]
  },
  {
   "cell_type": "markdown",
   "metadata": {},
   "source": [
    "### Verteilung der User über die Smartphone-Marken\n",
    "\n",
    "1. Bestimmen Sie die Anzahl der verschiedenen Devices und die Anzahl der verschiedenen Marken in der Tabelle *phone\\_brand\\_device\\_model*.\n",
    "\n",
    "2. Fügen Sie dem Pandas Dataframe mit der *gender_age_train*-Tabelle eine Spalte _brand_ hinzu und schreiben Sie in diese Spalte den Markennamen des zur jeweiligen Zeile gehörenden Device.\n",
    "3. Schreiben Sie den um den Markennamen erweiterten Dataframe in ein File *gender\\_age\\_brand\\_train.csv*.\n",
    "4. Bestimmmen Sie mittels der Dataframe-Methode *value_counts()* die Anzahl der Devices pro Marke. \n",
    "5. Stellen Sie diese Verteilung der Devices über die Marken für die 20 häufigsten Marken grafisch mit einem *Matplotlib-bar-chart dar.*\n",
    "6. Untersuchen Sie jetzt die Verteilung der Devices über die Marken pro Gender-Age-Group. Gibt es eine Korrelation zwischen Gender-Age-Group und Häufigkeit der Marken? Überlegen sie sich eine Visualisierung, mit der eine derartige Korrelation bestätigt oder widerlegt werden kann. Implementieren Sie die Visualisierung und zeigen Sie anhand dieser Visualisierung mögliche Korrelationen zwischen Gender-Age-Group und Markenhäufigkeit. "
   ]
  },
  {
   "cell_type": "code",
   "execution_count": 166,
   "metadata": {
    "collapsed": false
   },
   "outputs": [
    {
     "name": "stdout",
     "output_type": "stream",
     "text": [
      "186716\n"
     ]
    }
   ],
   "source": [
    "devices = pd.read_sql_query(\"select count(distinct(device_id)) from phone_brand_device_model;\",connection)\n",
    "print(devices.iloc[0,0])"
   ]
  },
  {
   "cell_type": "code",
   "execution_count": 164,
   "metadata": {
    "collapsed": false,
    "scrolled": true
   },
   "outputs": [
    {
     "name": "stdout",
     "output_type": "stream",
     "text": [
      "131\n"
     ]
    }
   ],
   "source": [
    "phonebrand = pd.read_sql_query(\"select count(distinct(phone_brand)) from phone_brand_device_model;\",connection)\n",
    "print(phonebrand.iloc[0,0])"
   ]
  },
  {
   "cell_type": "code",
   "execution_count": 167,
   "metadata": {
    "collapsed": false
   },
   "outputs": [
    {
     "name": "stdout",
     "output_type": "stream",
     "text": [
      "              device_id phone_brand   device_model\n",
      "0  -8890648629457979026          小米             红米\n",
      "1   1277779817574759137          小米           MI 2\n",
      "2   5137427614288105724          三星      Galaxy S4\n",
      "3   3669464369358936369       SUGAR           时尚手机\n",
      "4  -5019277647504317457          三星  Galaxy Note 2\n",
      "5   3238009352149731868          华为           Mate\n",
      "6  -3883532755183027260          小米          MI 2S\n",
      "7  -2972199645857147708          华为          G610S\n",
      "8  -5827952925479472594          小米    MI One Plus\n",
      "9  -8262508968076336275        vivo            S7I\n",
      "10  5840378295166286440          三星      Galaxy S3\n",
      "11 -5776341595519925628          小米          MI 2A\n",
      "12  3437705102632680210          三星      Galaxy S3\n",
      "13 -3568334676360016285          三星      Galaxy S3\n",
      "14   556978549708484782          小米           MI 2\n",
      "15  5694497738268412307          小米           MI 3\n",
      "16  6327116114284382479          华为      G520-0000\n",
      "17   773248989809697210        vivo          X5Pro\n",
      "18  -686020914357018824          小米          MI 2S\n",
      "19  6936613487637228956          魅族            MX2\n"
     ]
    }
   ],
   "source": [
    "devices = pd.read_sql_query(\"select * from phone_brand_device_model limit 20;\",connection)\n",
    "print(devices)"
   ]
  },
  {
   "cell_type": "code",
   "execution_count": 15,
   "metadata": {
    "collapsed": false
   },
   "outputs": [],
   "source": [
    "gender_age_train = pd.read_sql_query(\"select * from gender_age_train\",connection)\n",
    "device_brand = pd.read_sql_query(\"select * from phone_brand_device_model\",connection)\n",
    "gender_age_brand_train = pd.merge(gender_age_train, device_brand, on='device_id', how='left').drop(\"device_model\",1)"
   ]
  },
  {
   "cell_type": "code",
   "execution_count": 35,
   "metadata": {
    "collapsed": true
   },
   "outputs": [
    {
     "name": "stdout",
     "output_type": "stream",
     "text": [
      "              device_id gender  age agegroup phone_brand\n",
      "1  -2897161552818060146      M   35   M32-38          小米\n",
      "2  -8260683887967679142      M   35   M32-38          小米\n",
      "3  -4938849341048082022      M   30   M29-31          小米\n",
      "4    245133531816851882      M   30   M29-31          小米\n",
      "5  -1297074871525174196      F   24   F24-26        OPPO\n",
      "6    236877999787307864      M   36   M32-38          酷派\n",
      "7  -8098239495777311881      M   38   M32-38          小米\n",
      "8    176515041953473526      M   33   M32-38        vivo\n",
      "9   1596610250680140042      F   36   F33-42          三星\n",
      "10  9032155484127182494      M   31   M29-31          华为\n",
      "11  7477216237379271436      F   37   F33-42          华为\n",
      "12  2478205222798310601      F   28   F27-28          三星\n",
      "13  6352067998666467520      M   32   M32-38          华为\n",
      "14 -7605360767281960867      M   48     M39+         艾优尼\n",
      "15  1508636020748379883      F   28   F27-28          华为\n",
      "16  4380872794486415327      M   38   M32-38          小米\n",
      "17 -1039701474753771322      M   38   M32-38          小米\n",
      "18 -6876541075223249434      M   75     M39+          魅族\n",
      "19  6287938418661076759      M   33   M32-38          小米\n"
     ]
    }
   ],
   "source": [
    "print(gender_age_brand_train.iloc[1:20,:])"
   ]
  },
  {
   "cell_type": "code",
   "execution_count": 16,
   "metadata": {
    "collapsed": true
   },
   "outputs": [],
   "source": [
    "# read in brand map\n",
    "brandMap = pd.read_csv('brandMap.txt', sep=\" \", header=None)\n",
    "brandMap.columns = [\"phone_brand\", \"latin_phone_brand\"]\n",
    "gender_age_brand_train = pd.merge(gender_age_brand_train,brandMap,on=\"phone_brand\",how=\"outer\")"
   ]
  },
  {
   "cell_type": "code",
   "execution_count": 37,
   "metadata": {
    "collapsed": true
   },
   "outputs": [
    {
     "name": "stdout",
     "output_type": "stream",
     "text": [
      "   phone_brand latin_phone_brand\n",
      "0           三星           samsung\n",
      "1           天语            Ktouch\n",
      "2           海信           hisense\n",
      "3           联想            lenovo\n",
      "4           欧比               obi\n",
      "5          爱派尔             ipair\n",
      "6          努比亚             nubia\n",
      "7           优米             youmi\n",
      "8           朵唯              dowe\n",
      "9           黑米             heymi\n",
      "10          锤子            hammer\n",
      "11        酷比魔方            koobee\n",
      "12          美图             meitu\n",
      "13         尼比鲁            nibilu\n",
      "14          一加           oneplus\n",
      "15          优购             yougo\n",
      "16         诺基亚             nokia\n",
      "17         糖葫芦             candy\n",
      "18        中国移动              ccmc\n",
      "19          语信             yuxin\n",
      "20          基伍              kiwu\n",
      "21          青橙            greeno\n",
      "22          华硕              asus\n",
      "23          夏新         panosonic\n",
      "24          维图             weitu\n",
      "25         艾优尼           aiyouni\n",
      "26        摩托罗拉              moto\n",
      "27          乡米           xiangmi\n",
      "28          米奇             micky\n",
      "29         大可乐           bigcola\n",
      "..         ...               ...\n",
      "32          摩乐              mole\n",
      "33          飞秒                fs\n",
      "34          米歌              mige\n",
      "35         富可视               fks\n",
      "36          德赛             desci\n",
      "37          梦米            mengmi\n",
      "38          乐视              lshi\n",
      "39         小杨树            smallt\n",
      "40          纽曼            newman\n",
      "41          邦华           banghua\n",
      "42          E派              epai\n",
      "43          易派              epai\n",
      "44         普耐尔              pner\n",
      "45          欧新             ouxin\n",
      "46          西米              ximi\n",
      "47          海尔             haier\n",
      "48          波导             bodao\n",
      "49          糯米             nuomi\n",
      "50          唯米             weimi\n",
      "51          酷珀              kupo\n",
      "52          谷歌            google\n",
      "53          昂达               ada\n",
      "54          华为            huawei\n",
      "55          魅族             meizu\n",
      "56          酷派           coolpad\n",
      "57          聆韵           lingyun\n",
      "58          小米            xiaomi\n",
      "59          中兴               zte\n",
      "60          金立            gionee\n",
      "61          索尼              sony\n",
      "\n",
      "[62 rows x 2 columns]\n"
     ]
    }
   ],
   "source": [
    "print(brandMap)"
   ]
  },
  {
   "cell_type": "code",
   "execution_count": 17,
   "metadata": {
    "collapsed": false
   },
   "outputs": [],
   "source": []
  },
  {
   "cell_type": "code",
   "execution_count": 39,
   "metadata": {
    "collapsed": true
   },
   "outputs": [
    {
     "name": "stdout",
     "output_type": "stream",
     "text": [
      "                 device_id gender  age agegroup phone_brand latin_phone_brand\n",
      "0     -8076087639492063270      M   35   M32-38          小米            xiaomi\n",
      "1     -2897161552818060146      M   35   M32-38          小米            xiaomi\n",
      "2     -8260683887967679142      M   35   M32-38          小米            xiaomi\n",
      "3     -4938849341048082022      M   30   M29-31          小米            xiaomi\n",
      "4       245133531816851882      M   30   M29-31          小米            xiaomi\n",
      "5     -8098239495777311881      M   38   M32-38          小米            xiaomi\n",
      "6      4380872794486415327      M   38   M32-38          小米            xiaomi\n",
      "7     -1039701474753771322      M   38   M32-38          小米            xiaomi\n",
      "8      6287938418661076759      M   33   M32-38          小米            xiaomi\n",
      "9      8026504930081700361      M   25   M23-26          小米            xiaomi\n",
      "10    -9216966316587614491      M   29   M29-31          小米            xiaomi\n",
      "11     7106922851105968241      M   22     M22-          小米            xiaomi\n",
      "12    -5825546292084395293      M   31   M29-31          小米            xiaomi\n",
      "13     5886404762741543631      M   37   M32-38          小米            xiaomi\n",
      "14     3444770318780911055      M   36   M32-38          小米            xiaomi\n",
      "15    -7360652256644378412      M   38   M32-38          小米            xiaomi\n",
      "16    -3207654344601946580      M   38   M32-38          小米            xiaomi\n",
      "17    -7731743086143077949      M   35   M32-38          小米            xiaomi\n",
      "18    -3563791052716940236      M   25   M23-26          小米            xiaomi\n",
      "19    -5348866880284858420      M   25   M23-26          小米            xiaomi\n",
      "20    -6290480893520011063      M   44     M39+          小米            xiaomi\n",
      "21    -6083834394280548453      F   27   F27-28          小米            xiaomi\n",
      "22    -3235628390898753137      M   44     M39+          小米            xiaomi\n",
      "23    -4144208717804687615      M   44     M39+          小米            xiaomi\n",
      "24     4156261305872406545      M   21     M22-          小米            xiaomi\n",
      "25    -6785797459639810711      M   28   M27-28          小米            xiaomi\n",
      "26     5439866249778803748      M   35   M32-38          小米            xiaomi\n",
      "27    -8140024683963050427      M   38   M32-38          小米            xiaomi\n",
      "28     -360168846769617446      M   38   M32-38          小米            xiaomi\n",
      "29     2346793034696706898      M   28   M27-28          小米            xiaomi\n",
      "...                    ...    ...  ...      ...         ...               ...\n",
      "74809 -8790560034584248901      M   24   M23-26        PPTV               NaN\n",
      "74810 -8296278238012780666      M   44     M39+        PPTV               NaN\n",
      "74811 -5387173829047621361      M   29   M29-31        PPTV               NaN\n",
      "74812  2666840582925149460      M   19     M22-         宝捷讯               NaN\n",
      "74813  -654513165827023549      F   32   F29-32          摩乐              mole\n",
      "74814  5293170331929430065      M   36   M32-38          德赛             desci\n",
      "74815  8393101674359525687      M   27   M27-28          德赛             desci\n",
      "74816  7501956783062361054      F   30   F29-32          德赛             desci\n",
      "74817  6588287214961767693      F   31   F29-32          首云               NaN\n",
      "74818 -6193284194987082936      F   29   F29-32          首云               NaN\n",
      "74819 -1527969048433963834      M   34   M32-38          首云               NaN\n",
      "74820  6051489391920376397      M   40     M39+        天宏时代               NaN\n",
      "74821 -2443528365337141870      F   33   F33-42          虾米               NaN\n",
      "74822 -4050556464310188513      M   32   M32-38          虾米               NaN\n",
      "74823 -3597157669210399042      F   21     F23-          虾米               NaN\n",
      "74824 -4096387492601225372      M   46     M39+          本为               NaN\n",
      "74825 -8291181727019154087      F   18     F23-          本为               NaN\n",
      "74826  2464885013439794542      M   15     M22-         MIL               NaN\n",
      "74827  6799878410382492938      M   44     M39+          大显               NaN\n",
      "74828 -8186698496998068545      F   35   F33-42          蓝魔               NaN\n",
      "74829  4692517988915901410      F   33   F33-42          蓝魔               NaN\n",
      "74830  5852180128014717633      M   27   M27-28          蓝魔               NaN\n",
      "74831  1456231129869198627      M   23   M23-26          丰米               NaN\n",
      "74832 -2989073628212310709      M   31   M29-31          丰米               NaN\n",
      "74833  1751236410718403505      M   20     M22-          鲜米               NaN\n",
      "74834  8109205969894662857      M   40     M39+         飞利浦               NaN\n",
      "74835 -8506235652949718755      M   23   M23-26          优语               NaN\n",
      "74836  -801396569287331168      M   27   M27-28         西门子               NaN\n",
      "74837   289215332711073516      F   41   F33-42          飞秒                fs\n",
      "74838  8722507545745383316      M   28   M27-28         欧乐酷               NaN\n",
      "\n",
      "[74839 rows x 6 columns]\n"
     ]
    }
   ],
   "source": [
    "print(gender_age_brand_train)"
   ]
  },
  {
   "cell_type": "code",
   "execution_count": 40,
   "metadata": {
    "collapsed": true
   },
   "outputs": [],
   "source": [
    "gender_age_brand_train.to_csv(\"gender_age_brand_train.csv\")"
   ]
  },
  {
   "cell_type": "code",
   "execution_count": 18,
   "metadata": {
    "collapsed": false,
    "scrolled": false
   },
   "outputs": [
    {
     "name": "stdout",
     "output_type": "stream",
     "text": [
      "   phone_brand latin_phone_brand brand_merge\n",
      "1           小米            xiaomi      xiaomi\n",
      "2           小米            xiaomi      xiaomi\n",
      "3           小米            xiaomi      xiaomi\n",
      "4           小米            xiaomi      xiaomi\n",
      "5           小米            xiaomi      xiaomi\n",
      "6           小米            xiaomi      xiaomi\n",
      "7           小米            xiaomi      xiaomi\n",
      "8           小米            xiaomi      xiaomi\n",
      "9           小米            xiaomi      xiaomi\n",
      "10          小米            xiaomi      xiaomi\n",
      "11          小米            xiaomi      xiaomi\n",
      "12          小米            xiaomi      xiaomi\n",
      "13          小米            xiaomi      xiaomi\n",
      "14          小米            xiaomi      xiaomi\n",
      "15          小米            xiaomi      xiaomi\n",
      "16          小米            xiaomi      xiaomi\n",
      "17          小米            xiaomi      xiaomi\n",
      "18          小米            xiaomi      xiaomi\n",
      "19          小米            xiaomi      xiaomi\n"
     ]
    }
   ],
   "source": [
    "# devices pro Marke\n",
    "#import math\n",
    "brand_train = gender_age_brand_train.iloc[:,4:6]\n",
    "brand_train['brand_merge']='undefined'\n",
    "\n",
    "for i in range(0,len(brand_train.index)):\n",
    "    #if(math.isnan(brand_train.iloc[i,1])):\n",
    "    if(type(brand_train.iloc[i,1])!=str):\n",
    "        brand_train.iloc[i,2] = brand_train.iloc[i,0]\n",
    "    else:\n",
    "        brand_train.iloc[i,2] = brand_train.iloc[i,1]\n",
    "\n",
    "        \n",
    "print(brand_train.iloc[1:20,:])\n"
   ]
  },
  {
   "cell_type": "code",
   "execution_count": 80,
   "metadata": {
    "collapsed": false
   },
   "outputs": [
    {
     "data": {
      "text/plain": [
       "str"
      ]
     },
     "execution_count": 80,
     "metadata": {},
     "output_type": "execute_result"
    }
   ],
   "source": [
    "type(brand_train.iloc[0,1])"
   ]
  },
  {
   "cell_type": "code",
   "execution_count": 81,
   "metadata": {
    "collapsed": false
   },
   "outputs": [
    {
     "data": {
      "text/plain": [
       "str"
      ]
     },
     "execution_count": 81,
     "metadata": {},
     "output_type": "execute_result"
    }
   ],
   "source": [
    "str"
   ]
  },
  {
   "cell_type": "code",
   "execution_count": 79,
   "metadata": {
    "collapsed": false
   },
   "outputs": [
    {
     "ename": "TypeError",
     "evalue": "a float is required",
     "output_type": "error",
     "traceback": [
      "\u001b[1;31m---------------------------------------------------------------------------\u001b[0m",
      "\u001b[1;31mTypeError\u001b[0m                                 Traceback (most recent call last)",
      "\u001b[1;32m<ipython-input-79-75a5e5bfca78>\u001b[0m in \u001b[0;36m<module>\u001b[1;34m()\u001b[0m\n\u001b[0;32m      1\u001b[0m \u001b[1;32mimport\u001b[0m \u001b[0mmath\u001b[0m\u001b[1;33m\u001b[0m\u001b[0m\n\u001b[1;32m----> 2\u001b[1;33m \u001b[0mmath\u001b[0m\u001b[1;33m.\u001b[0m\u001b[0misnan\u001b[0m\u001b[1;33m(\u001b[0m\u001b[0mbrand_train\u001b[0m\u001b[1;33m.\u001b[0m\u001b[0miloc\u001b[0m\u001b[1;33m[\u001b[0m\u001b[1;36m1\u001b[0m\u001b[1;33m,\u001b[0m\u001b[1;36m1\u001b[0m\u001b[1;33m]\u001b[0m\u001b[1;33m)\u001b[0m\u001b[1;33m\u001b[0m\u001b[0m\n\u001b[0m",
      "\u001b[1;31mTypeError\u001b[0m: a float is required"
     ]
    }
   ],
   "source": [
    "import math\n",
    "math.isnan(brand_train.iloc[1,1])"
   ]
  },
  {
   "cell_type": "markdown",
   "metadata": {},
   "source": [
    "brand_train.iloc[:,2].isnull().values.any()"
   ]
  },
  {
   "cell_type": "code",
   "execution_count": 68,
   "metadata": {
    "collapsed": true
   },
   "outputs": [
    {
     "data": {
      "text/plain": [
       "0        xiaomi\n",
       "1        xiaomi\n",
       "2        xiaomi\n",
       "3        xiaomi\n",
       "4        xiaomi\n",
       "5        xiaomi\n",
       "6        xiaomi\n",
       "7        xiaomi\n",
       "8        xiaomi\n",
       "9        xiaomi\n",
       "10       xiaomi\n",
       "11       xiaomi\n",
       "12       xiaomi\n",
       "13       xiaomi\n",
       "14       xiaomi\n",
       "15       xiaomi\n",
       "16       xiaomi\n",
       "17       xiaomi\n",
       "18       xiaomi\n",
       "19       xiaomi\n",
       "20       xiaomi\n",
       "21       xiaomi\n",
       "22       xiaomi\n",
       "23       xiaomi\n",
       "24       xiaomi\n",
       "25       xiaomi\n",
       "26       xiaomi\n",
       "27       xiaomi\n",
       "28       xiaomi\n",
       "29       xiaomi\n",
       "          ...  \n",
       "74809       NaN\n",
       "74810       NaN\n",
       "74811       NaN\n",
       "74812       NaN\n",
       "74813      mole\n",
       "74814     desci\n",
       "74815     desci\n",
       "74816     desci\n",
       "74817       NaN\n",
       "74818       NaN\n",
       "74819       NaN\n",
       "74820       NaN\n",
       "74821       NaN\n",
       "74822       NaN\n",
       "74823       NaN\n",
       "74824       NaN\n",
       "74825       NaN\n",
       "74826       NaN\n",
       "74827       NaN\n",
       "74828       NaN\n",
       "74829       NaN\n",
       "74830       NaN\n",
       "74831       NaN\n",
       "74832       NaN\n",
       "74833       NaN\n",
       "74834       NaN\n",
       "74835       NaN\n",
       "74836       NaN\n",
       "74837        fs\n",
       "74838       NaN\n",
       "Name: brand_merge, dtype: object"
      ]
     },
     "execution_count": 68,
     "metadata": {},
     "output_type": "execute_result"
    }
   ],
   "source": [
    "brand_train.iloc[:,2]"
   ]
  },
  {
   "cell_type": "code",
   "execution_count": 100,
   "metadata": {
    "collapsed": false
   },
   "outputs": [
    {
     "data": {
      "text/plain": [
       "<matplotlib.axes._subplots.AxesSubplot at 0x210f4fd5a20>"
      ]
     },
     "execution_count": 100,
     "metadata": {},
     "output_type": "execute_result"
    },
    {
     "data": {
      "image/png": "[encoded data removed]",
      "text/plain": [
       "<matplotlib.figure.Figure at 0x210efeabd68>"
      ]
     },
     "metadata": {},
     "output_type": "display_data"
    }
   ],
   "source": [
    "brand_train.iloc[:,2].value_counts().where(lambda x : x>100).dropna().plot(kind=\"bar\")"
   ]
  },
  {
   "cell_type": "code",
   "execution_count": 102,
   "metadata": {
    "collapsed": false
   },
   "outputs": [
    {
     "data": {
      "text/plain": [
       "<matplotlib.axes._subplots.AxesSubplot at 0x210f2e70978>"
      ]
     },
     "execution_count": 102,
     "metadata": {},
     "output_type": "execute_result"
    },
    {
     "data": {
      "image/png": "[encoded data removed]",
      "text/plain": [
       "<matplotlib.figure.Figure at 0x210f2e4f0f0>"
      ]
     },
     "metadata": {},
     "output_type": "display_data"
    }
   ],
   "source": [
    "brand_train.iloc[:,2].value_counts().iloc[0:20].plot(kind=\"bar\")"
   ]
  },
  {
   "cell_type": "code",
   "execution_count": 97,
   "metadata": {
    "collapsed": true
   },
   "outputs": [],
   "source": [
    "test = brand_train.iloc[:,2].value_counts().where(lambda x : x>100).dropna()"
   ]
  },
  {
   "cell_type": "code",
   "execution_count": 98,
   "metadata": {
    "collapsed": true
   },
   "outputs": [
    {
     "name": "stdout",
     "output_type": "stream",
     "text": [
      "xiaomi     17336.0\n",
      "samsung    13706.0\n",
      "huawei     13001.0\n",
      "OPPO        5802.0\n",
      "vivo        5658.0\n",
      "meizu       4710.0\n",
      "coolpad     3349.0\n",
      "lenovo      2695.0\n",
      "gionee      1124.0\n",
      "HTC         1015.0\n",
      "zte          861.0\n",
      "lshi         760.0\n",
      "sony         717.0\n",
      "nubia        484.0\n",
      "LG           333.0\n",
      "ccmc         275.0\n",
      "TCL          222.0\n",
      "dowe         213.0\n",
      "hisense      204.0\n",
      "youmi        192.0\n",
      "hammer       191.0\n",
      "oneplus      174.0\n",
      "yuxin        170.0\n",
      "Ktouch       159.0\n",
      "奇酷           140.0\n",
      "moto         103.0\n",
      "Name: brand_merge, dtype: float64\n"
     ]
    }
   ],
   "source": [
    "print(test)"
   ]
  },
  {
   "cell_type": "code",
   "execution_count": 61,
   "metadata": {
    "collapsed": false
   },
   "outputs": [
    {
     "data": {
      "text/plain": [
       "74839"
      ]
     },
     "execution_count": 61,
     "metadata": {},
     "output_type": "execute_result"
    }
   ],
   "source": [
    "len(brand_train.index)"
   ]
  },
  {
   "cell_type": "code",
   "execution_count": 54,
   "metadata": {
    "collapsed": false
   },
   "outputs": [
    {
     "data": {
      "text/plain": [
       "'小米'"
      ]
     },
     "execution_count": 54,
     "metadata": {},
     "output_type": "execute_result"
    }
   ],
   "source": [
    "brand_train.iloc[600,0]"
   ]
  },
  {
   "cell_type": "code",
   "execution_count": 49,
   "metadata": {
    "collapsed": false
   },
   "outputs": [
    {
     "data": {
      "text/plain": [
       "74839"
      ]
     },
     "execution_count": 49,
     "metadata": {},
     "output_type": "execute_result"
    }
   ],
   "source": [
    "len(brand_train.index)"
   ]
  },
  {
   "cell_type": "code",
   "execution_count": 8,
   "metadata": {
    "collapsed": false,
    "scrolled": true
   },
   "outputs": [
    {
     "name": "stdout",
     "output_type": "stream",
     "text": [
      "Current size: [15.0, 12.0]\n"
     ]
    },
    {
     "data": {
      "text/plain": [
       "<matplotlib.collections.PathCollection at 0x1d651619cc0>"
      ]
     },
     "execution_count": 8,
     "metadata": {},
     "output_type": "execute_result"
    },
    {
     "data": {
      "image/png": "[encoded data removed]",
      "text/plain": [
       "<matplotlib.figure.Figure at 0x1d650f9b780>"
      ]
     },
     "metadata": {},
     "output_type": "display_data"
    }
   ],
   "source": [
    "# library & dataset\n",
    "#from matplotlib import pyplot as plt\n",
    "#import numpy as np\n",
    "\n",
    "# Get current size\n",
    "fig_size = plt.rcParams[\"figure.figsize\"]\n",
    " \n",
    "# Prints: [8.0, 6.0]\n",
    "print(\"Current size:\", fig_size)\n",
    " \n",
    "# Set figure width to 12 and height to 9\n",
    "fig_size[0] = 15\n",
    "fig_size[1] = 12\n",
    "\n",
    "plt.rcParams[\"figure.figsize\"] = fig_size\n",
    "# create data\n",
    "x = np.random.rand(15)\n",
    "y = x+np.random.rand(15)\n",
    "z = x+np.random.rand(15)\n",
    "z=z*z\n",
    "\n",
    "# Use it with a call in cmap\n",
    "#plt.scatter(x, y, s=z*2000, c=x, cmap=\"BuPu\", alpha=0.4, edgecolors=\"grey\", linewidth=2)\n",
    "\n",
    "# You can reverse it:\n",
    "#plt.scatter(x, y, s=z*2000, c=x, cmap=\"BuPu_r\", alpha=0.4, edgecolors=\"grey\", linewidth=2)\n",
    "\n",
    "# OTHER: viridis / inferno / plasma / magma\n",
    "plt.scatter(x, y, s=z*2000, c=x, cmap=\"plasma\", alpha=0.4, edgecolors=\"grey\", linewidth=2)"
   ]
  },
  {
   "cell_type": "code",
   "execution_count": 11,
   "metadata": {
    "collapsed": false
   },
   "outputs": [],
   "source": [
    "import pandas as pd\n",
    "gender_age_brand_train = pd.read_csv(\"gender_age_brand_train.csv\")"
   ]
  },
  {
   "cell_type": "code",
   "execution_count": 25,
   "metadata": {
    "collapsed": false
   },
   "outputs": [
    {
     "name": "stdout",
     "output_type": "stream",
     "text": [
      "             device_id gender  age agegroup phone_brand brand_merge\n",
      "1 -2897161552818060146      M   35   M32-38          小米   undefined\n",
      "2 -8260683887967679142      M   35   M32-38          小米   undefined\n",
      "3 -4938849341048082022      M   30   M29-31          小米   undefined\n",
      "4   245133531816851882      M   30   M29-31          小米   undefined\n"
     ]
    }
   ],
   "source": [
    "gender_age_train = pd.read_sql_query(\"select * from gender_age_train\",connection)\n",
    "device_brand = pd.read_sql_query(\"select * from phone_brand_device_model\",connection)\n",
    "gender_age_brand_train = pd.merge(gender_age_train, device_brand, on='device_id', how='left').drop(\"device_model\",1)\n",
    "\n",
    "brand_train = gender_age_brand_train\n",
    "brand_train['brand_merge']='undefined'\n",
    "print(brand_train.iloc[1:5,:])"
   ]
  },
  {
   "cell_type": "code",
   "execution_count": 30,
   "metadata": {
    "collapsed": false,
    "scrolled": true
   },
   "outputs": [
    {
     "name": "stdout",
     "output_type": "stream",
     "text": [
      "             device_id gender  age agegroup phone_brand latin_phone_brand  \\\n",
      "1 -2897161552818060146      M   35   M32-38          小米            xiaomi   \n",
      "2 -8260683887967679142      M   35   M32-38          小米            xiaomi   \n",
      "3 -4938849341048082022      M   30   M29-31          小米            xiaomi   \n",
      "4   245133531816851882      M   30   M29-31          小米            xiaomi   \n",
      "5 -8098239495777311881      M   38   M32-38          小米            xiaomi   \n",
      "6  4380872794486415327      M   38   M32-38          小米            xiaomi   \n",
      "7 -1039701474753771322      M   38   M32-38          小米            xiaomi   \n",
      "8  6287938418661076759      M   33   M32-38          小米            xiaomi   \n",
      "9  8026504930081700361      M   25   M23-26          小米            xiaomi   \n",
      "\n",
      "  brand_merge  \n",
      "1      xiaomi  \n",
      "2      xiaomi  \n",
      "3      xiaomi  \n",
      "4      xiaomi  \n",
      "5      xiaomi  \n",
      "6      xiaomi  \n",
      "7      xiaomi  \n",
      "8      xiaomi  \n",
      "9      xiaomi  \n"
     ]
    }
   ],
   "source": [
    "# devices pro Marke\n",
    "#import math\n",
    "gender_age_train = pd.read_sql_query(\"select * from gender_age_train\",connection)\n",
    "device_brand = pd.read_sql_query(\"select * from phone_brand_device_model\",connection)\n",
    "gender_age_brand_train = pd.merge(gender_age_train, device_brand, on='device_id', how='left').drop(\"device_model\",1)\n",
    "\n",
    "# read in brand map\n",
    "brandMap = pd.read_csv('brandMap.txt', sep=\" \", header=None)\n",
    "brandMap.columns = [\"phone_brand\", \"latin_phone_brand\"]\n",
    "gender_age_brand_train = pd.merge(gender_age_brand_train,brandMap,on=\"phone_brand\",how=\"outer\")\n",
    "\n",
    "\n",
    "\n",
    "brand_train = gender_age_brand_train\n",
    "brand_train['brand_merge']='undefined'\n",
    "\n",
    "for i in range(0,len(brand_train.index)):\n",
    "    #if(math.isnan(brand_train.iloc[i,1])):\n",
    "    if(type(brand_train.iloc[i,5])!=str):\n",
    "        brand_train.iloc[i,6] = brand_train.iloc[i,4]\n",
    "    else:\n",
    "        brand_train.iloc[i,6] = brand_train.iloc[i,5]\n",
    "\n",
    "        \n",
    "print(brand_train.iloc[1:10,:])"
   ]
  },
  {
   "cell_type": "code",
   "execution_count": 223,
   "metadata": {
    "collapsed": true
   },
   "outputs": [],
   "source": [
    "device_gender_age_agegroup_brand = brand_train"
   ]
  },
  {
   "cell_type": "code",
   "execution_count": 224,
   "metadata": {
    "collapsed": false
   },
   "outputs": [],
   "source": [
    "device_gender_age_agegroup_brand = device_gender_age_agegroup_brand.drop(\"phone_brand\",1).drop(\"latin_phone_brand\",1)"
   ]
  },
  {
   "cell_type": "code",
   "execution_count": 225,
   "metadata": {
    "collapsed": true
   },
   "outputs": [],
   "source": [
    "device_gender_age_agegroup_brand.to_csv(\"device_gender_age_agegroup_brand.csv\")"
   ]
  },
  {
   "cell_type": "code",
   "execution_count": 226,
   "metadata": {
    "collapsed": false,
    "scrolled": false
   },
   "outputs": [
    {
     "name": "stdout",
     "output_type": "stream",
     "text": [
      "             device_id gender  age agegroup brand_merge\n",
      "1 -2897161552818060146      M   35   M32-38      xiaomi\n",
      "2 -8260683887967679142      M   35   M32-38      xiaomi\n",
      "3 -4938849341048082022      M   30   M29-31      xiaomi\n",
      "4   245133531816851882      M   30   M29-31      xiaomi\n",
      "5 -8098239495777311881      M   38   M32-38      xiaomi\n",
      "6  4380872794486415327      M   38   M32-38      xiaomi\n",
      "7 -1039701474753771322      M   38   M32-38      xiaomi\n",
      "8  6287938418661076759      M   33   M32-38      xiaomi\n",
      "9  8026504930081700361      M   25   M23-26      xiaomi\n"
     ]
    }
   ],
   "source": [
    "print(device_gender_age_agegroup_brand.iloc[1:10,:])"
   ]
  },
  {
   "cell_type": "code",
   "execution_count": 227,
   "metadata": {
    "collapsed": true
   },
   "outputs": [],
   "source": [
    "data = device_gender_age_agegroup_brand"
   ]
  },
  {
   "cell_type": "code",
   "execution_count": 228,
   "metadata": {
    "collapsed": false
   },
   "outputs": [
    {
     "name": "stdout",
     "output_type": "stream",
     "text": [
      "['M32-38' 'M29-31' 'M23-26' 'M22-' 'M39+' 'F27-28' 'M27-28' 'F29-32'\n",
      " 'F33-42' 'F23-' 'F43+' 'F24-26']\n"
     ]
    }
   ],
   "source": [
    "agegroups = data.agegroup.unique()\n",
    "print(agegroups)"
   ]
  },
  {
   "cell_type": "code",
   "execution_count": 296,
   "metadata": {
    "collapsed": false,
    "scrolled": false
   },
   "outputs": [
    {
     "name": "stdout",
     "output_type": "stream",
     "text": [
      "       xiaomi OPPO coolpad vivo samsung huawei aiyouni meizu nubia youmi ...   \\\n",
      "M32-38   2147  554     448  466    1929   1938       7   444    71    36 ...    \n",
      "M29-31   1766  441     338  396    1316   1406       3   455    55    19 ...    \n",
      "M23-26   2440  712     410  700    1420   1508      10   947    92    20 ...    \n",
      "M22-     1929  675     360  692     857   1015       4   833    60     7 ...    \n",
      "M39+     1745  442     491  394    1777   1945       3   282    51    19 ...    \n",
      "F27-28    796  299     119  345     590    428     NaN   179    11     6 ...    \n",
      "M27-28   1379  397     223  350     964    932       3   443    41    21 ...    \n",
      "F29-32   1098  429     143  414    1025    752       4   202    17    16 ...    \n",
      "F33-42   1174  407     268  355    1360   1106     NaN   181    22    14 ...    \n",
      "F23-      946  741     218  801     682    620       4   326    21    12 ...    \n",
      "F43+      935  260     195  220    1026    784       1   156    23    15 ...    \n",
      "F24-26    981  445     136  525     760    567       1   262    20     7 ...    \n",
      "\n",
      "        MIL   大显   蓝魔   丰米   鲜米  飞利浦   优语  西门子   fs  欧乐酷  \n",
      "M32-38  NaN  NaN  NaN  NaN  NaN  NaN  NaN  NaN  NaN  NaN  \n",
      "M29-31  NaN  NaN  NaN    1  NaN  NaN  NaN  NaN  NaN  NaN  \n",
      "M23-26  NaN  NaN  NaN    1  NaN  NaN    1  NaN  NaN  NaN  \n",
      "M22-      1  NaN  NaN  NaN    1  NaN  NaN  NaN  NaN  NaN  \n",
      "M39+    NaN    1  NaN  NaN  NaN    1  NaN  NaN  NaN  NaN  \n",
      "F27-28  NaN  NaN  NaN  NaN  NaN  NaN  NaN  NaN  NaN  NaN  \n",
      "M27-28  NaN  NaN    1  NaN  NaN  NaN  NaN    1  NaN    1  \n",
      "F29-32  NaN  NaN  NaN  NaN  NaN  NaN  NaN  NaN  NaN  NaN  \n",
      "F33-42  NaN  NaN    2  NaN  NaN  NaN  NaN  NaN    1  NaN  \n",
      "F23-    NaN  NaN  NaN  NaN  NaN  NaN  NaN  NaN  NaN  NaN  \n",
      "F43+    NaN  NaN  NaN  NaN  NaN  NaN  NaN  NaN  NaN  NaN  \n",
      "F24-26  NaN  NaN  NaN  NaN  NaN  NaN  NaN  NaN  NaN  NaN  \n",
      "\n",
      "[12 rows x 119 columns]\n"
     ]
    }
   ],
   "source": [
    "dataframe = pd.DataFrame(index=data.agegroup.unique(),columns=data.brand_merge.unique())\n",
    "#print(dataframe)\n",
    "for agegroup in agegroups:\n",
    "    #print(agegroup)\n",
    "    #print(dataframe.loc[agegroup,:])\n",
    "    dataframe.loc[agegroup] = data.query(\"agegroup == @agegroup\").loc[:,\"brand_merge\"].value_counts()\n",
    "\n",
    "\n",
    "print(dataframe)"
   ]
  },
  {
   "cell_type": "code",
   "execution_count": 48,
   "metadata": {
    "collapsed": true
   },
   "outputs": [
    {
     "name": "stdout",
     "output_type": "stream",
     "text": [
      "             device_id gender  age agegroup brand_merge\n",
      "1 -2897161552818060146      M   35   M32-38      xiaomi\n",
      "2 -8260683887967679142      M   35   M32-38      xiaomi\n",
      "3 -4938849341048082022      M   30   M29-31      xiaomi\n",
      "4   245133531816851882      M   30   M29-31      xiaomi\n",
      "5 -8098239495777311881      M   38   M32-38      xiaomi\n",
      "6  4380872794486415327      M   38   M32-38      xiaomi\n",
      "7 -1039701474753771322      M   38   M32-38      xiaomi\n",
      "8  6287938418661076759      M   33   M32-38      xiaomi\n",
      "9  8026504930081700361      M   25   M23-26      xiaomi\n"
     ]
    }
   ],
   "source": [
    "print(data.iloc[1:10,:])"
   ]
  },
  {
   "cell_type": "code",
   "execution_count": 53,
   "metadata": {
    "collapsed": true
   },
   "outputs": [
    {
     "data": {
      "text/plain": [
       "xiaomi       2147\n",
       "huawei       1938\n",
       "samsung      1929\n",
       "OPPO          554\n",
       "vivo          466\n",
       "coolpad       448\n",
       "meizu         444\n",
       "lenovo        361\n",
       "zte           144\n",
       "HTC           133\n",
       "lshi          132\n",
       "gionee        129\n",
       "sony           96\n",
       "nubia          71\n",
       "ccmc           58\n",
       "LG             51\n",
       "youmi          36\n",
       "TCL            30\n",
       "奇酷             30\n",
       "yuxin          26\n",
       "hisense        25\n",
       "oneplus        24\n",
       "Ktouch         20\n",
       "hammer         17\n",
       "dowe           13\n",
       "moto           13\n",
       "asus           12\n",
       "ZUK            10\n",
       "aiyouni         7\n",
       "ipair           7\n",
       "             ... \n",
       "panosonic       3\n",
       "newman          2\n",
       "kupo            2\n",
       "百加              2\n",
       "meitu           2\n",
       "bodao           2\n",
       "至尊宝             2\n",
       "bigcola         2\n",
       "weimi           2\n",
       "mige            2\n",
       "斐讯              2\n",
       "ZOYE            1\n",
       "欧乐迪             1\n",
       "首云              1\n",
       "nibilu          1\n",
       "micky           1\n",
       "白米              1\n",
       "smallt          1\n",
       "大Q              1\n",
       "nokia           1\n",
       "台电              1\n",
       "虾米              1\n",
       "Lovme           1\n",
       "pner            1\n",
       "desci           1\n",
       "banghua         1\n",
       "LOGO            1\n",
       "ada             1\n",
       "obi             1\n",
       "greeno          1\n",
       "Name: brand_merge, dtype: int64"
      ]
     },
     "execution_count": 53,
     "metadata": {},
     "output_type": "execute_result"
    }
   ],
   "source": [
    "data.query('agegroup == \"M32-38\"').loc[:,\"brand_merge\"].value_counts()"
   ]
  },
  {
   "cell_type": "code",
   "execution_count": 43,
   "metadata": {
    "collapsed": false
   },
   "outputs": [
    {
     "name": "stdout",
     "output_type": "stream",
     "text": [
      "Empty DataFrame\n",
      "Columns: []\n",
      "Index: [M32-38, M29-31, M23-26, M22-, M39+, F27-28, M27-28, F29-32, F33-42, F23-, F43+, F24-26]\n"
     ]
    }
   ],
   "source": [
    "df2 = pd.DataFrame(index=agegroups)\n",
    "print(df2)"
   ]
  },
  {
   "cell_type": "code",
   "execution_count": 64,
   "metadata": {
    "collapsed": false
   },
   "outputs": [
    {
     "data": {
      "text/plain": [
       "Index(['M32-38', 'M29-31', 'M23-26', 'M22-', 'M39+', 'F27-28', 'M27-28',\n",
       "       'F29-32', 'F33-42', 'F23-', 'F43+', 'F24-26'],\n",
       "      dtype='object')"
      ]
     },
     "execution_count": 64,
     "metadata": {},
     "output_type": "execute_result"
    }
   ],
   "source": [
    "dataframe.index"
   ]
  },
  {
   "cell_type": "code",
   "execution_count": 65,
   "metadata": {
    "collapsed": false,
    "scrolled": true
   },
   "outputs": [
    {
     "data": {
      "text/plain": [
       "Index(['xiaomi', 'OPPO', 'coolpad', 'vivo', 'samsung', 'huawei', 'aiyouni',\n",
       "       'meizu', 'nubia', 'youmi',\n",
       "       ...\n",
       "       'MIL', '大显', '蓝魔', '丰米', '鲜米', '飞利浦', '优语', '西门子', 'fs', '欧乐酷'],\n",
       "      dtype='object', length=119)"
      ]
     },
     "execution_count": 65,
     "metadata": {},
     "output_type": "execute_result"
    }
   ],
   "source": [
    "dataframe.columns"
   ]
  },
  {
   "cell_type": "code",
   "execution_count": 83,
   "metadata": {
    "collapsed": true
   },
   "outputs": [],
   "source": [
    "dataframe2 = dataframe.drop([col for col, val in dataframe.sum().iteritems() if val < 100], axis=1, inplace=True)"
   ]
  },
  {
   "cell_type": "code",
   "execution_count": 74,
   "metadata": {
    "collapsed": false,
    "scrolled": true
   },
   "outputs": [
    {
     "name": "stdout",
     "output_type": "stream",
     "text": [
      "       xiaomi OPPO coolpad vivo samsung huawei meizu nubia youmi  HTC ...   \\\n",
      "M32-38   2147  554     448  466    1929   1938   444    71    36  133 ...    \n",
      "M29-31   1766  441     338  396    1316   1406   455    55    19  127 ...    \n",
      "M23-26   2440  712     410  700    1420   1508   947    92    20  149 ...    \n",
      "M22-     1929  675     360  692     857   1015   833    60     7  109 ...    \n",
      "M39+     1745  442     491  394    1777   1945   282    51    19  111 ...    \n",
      "F27-28    796  299     119  345     590    428   179    11     6   31 ...    \n",
      "M27-28   1379  397     223  350     964    932   443    41    21   65 ...    \n",
      "F29-32   1098  429     143  414    1025    752   202    17    16   55 ...    \n",
      "F33-42   1174  407     268  355    1360   1106   181    22    14   65 ...    \n",
      "F23-      946  741     218  801     682    620   326    21    12   56 ...    \n",
      "F43+      935  260     195  220    1026    784   156    23    15   57 ...    \n",
      "F24-26    981  445     136  525     760    567   262    20     7   57 ...    \n",
      "\n",
      "        zte Ktouch yuxin ccmc TCL hisense lshi  奇酷 hammer dowe  \n",
      "M32-38  144     20    26   58  30      25  132  30     17   13  \n",
      "M29-31   77     23    11   32  20      22   96  18     32    9  \n",
      "M23-26  116     14    25   23  31      25  105  19     33    9  \n",
      "M22-     96      9    23   35  28      28   81  20     25   13  \n",
      "M39+    146     34    17   35  42      35   87  23     12   12  \n",
      "F27-28   26      2     1   10   6       6   27   5      7   16  \n",
      "M27-28   53      8    15   15   9       6   59   8     21   14  \n",
      "F29-32   32     11     8   13  10       5   41   2     15   16  \n",
      "F33-42   48     10    12   19  10      15   43   7      7   21  \n",
      "F23-     56      6    14   11  17      14   28   2      9   53  \n",
      "F43+     49     14     9   12  12      17   24   5      6   15  \n",
      "F24-26   18      8     9   12   7       6   37   1      7   22  \n",
      "\n",
      "[12 rows x 26 columns]\n"
     ]
    }
   ],
   "source": [
    "print(dataframe)"
   ]
  },
  {
   "cell_type": "code",
   "execution_count": 230,
   "metadata": {
    "collapsed": false,
    "scrolled": true
   },
   "outputs": [
    {
     "name": "stdout",
     "output_type": "stream",
     "text": [
      "       xiaomi OPPO coolpad vivo samsung huawei meizu lenovo\n",
      "M32-38   2147  554     448  466    1929   1938   444    361\n",
      "M29-31   1766  441     338  396    1316   1406   455    254\n",
      "M23-26   2440  712     410  700    1420   1508   947    333\n",
      "M22-     1929  675     360  692     857   1015   833    262\n",
      "M39+     1745  442     491  394    1777   1945   282    408\n",
      "F27-28    796  299     119  345     590    428   179     82\n",
      "M27-28   1379  397     223  350     964    932   443    183\n",
      "F29-32   1098  429     143  414    1025    752   202    148\n",
      "F33-42   1174  407     268  355    1360   1106   181    192\n",
      "F23-      946  741     218  801     682    620   326    166\n",
      "F43+      935  260     195  220    1026    784   156    185\n",
      "F24-26    981  445     136  525     760    567   262    121\n"
     ]
    }
   ],
   "source": [
    "dataframe2 = dataframe.loc[:,(dataframe.sum(axis=0) > 2500)]\n",
    "print(dataframe2)\n",
    "#plt.figure();\n",
    "#dataframe2.sort_index().plot(kind=\"bar\")"
   ]
  },
  {
   "cell_type": "code",
   "execution_count": null,
   "metadata": {
    "collapsed": true
   },
   "outputs": [],
   "source": [
    "# creating a dict file \n",
    "brand = {'xiamoi': 1,'OPPO': 2, 'coolpad':3,'vivo':4,'samsung':5,'huawei':6,'meizu':7,'lenovo':8}\n",
    "\n",
    " \n",
    "# traversing through dataframe\n",
    "# Gender column and writing\n",
    "# values where key matches\n",
    "data = dataframe2.copy()\n",
    "data.Gender = [brand[item] for item in data.Gender]"
   ]
  },
  {
   "cell_type": "code",
   "execution_count": 135,
   "metadata": {
    "collapsed": false,
    "scrolled": true
   },
   "outputs": [
    {
     "name": "stdout",
     "output_type": "stream",
     "text": [
      "       xiaomi OPPO coolpad vivo samsung huawei meizu lenovo\n",
      "M32-38   2147  554     448  466    1929   1938   444    361\n",
      "M29-31   1766  441     338  396    1316   1406   455    254\n",
      "M23-26   2440  712     410  700    1420   1508   947    333\n",
      "M22-     1929  675     360  692     857   1015   833    262\n",
      "M39+     1745  442     491  394    1777   1945   282    408\n",
      "F27-28    796  299     119  345     590    428   179     82\n",
      "M27-28   1379  397     223  350     964    932   443    183\n",
      "F29-32   1098  429     143  414    1025    752   202    148\n",
      "F33-42   1174  407     268  355    1360   1106   181    192\n",
      "F23-      946  741     218  801     682    620   326    166\n",
      "F43+      935  260     195  220    1026    784   156    185\n",
      "F24-26    981  445     136  525     760    567   262    121\n"
     ]
    }
   ],
   "source": [
    "print(dataframe2)"
   ]
  },
  {
   "cell_type": "code",
   "execution_count": 152,
   "metadata": {
    "collapsed": false
   },
   "outputs": [
    {
     "data": {
      "text/plain": [
       "array(['M32-38', 'M29-31', 'M23-26', 'M22-', 'M39+', 'F27-28', 'M27-28',\n",
       "       'F29-32', 'F33-42', 'F23-', 'F43+', 'F24-26'], dtype=object)"
      ]
     },
     "execution_count": 152,
     "metadata": {},
     "output_type": "execute_result"
    }
   ],
   "source": [
    "dataframe2.index.values"
   ]
  },
  {
   "cell_type": "code",
   "execution_count": 181,
   "metadata": {
    "collapsed": true
   },
   "outputs": [],
   "source": [
    "df = dataframe2.copy()\n",
    "df = df.sort_index(inplace=True)"
   ]
  },
  {
   "cell_type": "code",
   "execution_count": 185,
   "metadata": {
    "collapsed": false,
    "scrolled": true
   },
   "outputs": [
    {
     "data": {
      "text/html": [
       "<div>\n",
       "<table border=\"1\" class=\"dataframe\">\n",
       "  <thead>\n",
       "    <tr style=\"text-align: right;\">\n",
       "      <th></th>\n",
       "      <th>xiaomi</th>\n",
       "      <th>OPPO</th>\n",
       "      <th>coolpad</th>\n",
       "      <th>vivo</th>\n",
       "      <th>samsung</th>\n",
       "      <th>huawei</th>\n",
       "      <th>meizu</th>\n",
       "      <th>lenovo</th>\n",
       "    </tr>\n",
       "  </thead>\n",
       "  <tbody>\n",
       "    <tr>\n",
       "      <th>M32-38</th>\n",
       "      <td>2147</td>\n",
       "      <td>554</td>\n",
       "      <td>448</td>\n",
       "      <td>466</td>\n",
       "      <td>1929</td>\n",
       "      <td>1938</td>\n",
       "      <td>444</td>\n",
       "      <td>361</td>\n",
       "    </tr>\n",
       "    <tr>\n",
       "      <th>M29-31</th>\n",
       "      <td>1766</td>\n",
       "      <td>441</td>\n",
       "      <td>338</td>\n",
       "      <td>396</td>\n",
       "      <td>1316</td>\n",
       "      <td>1406</td>\n",
       "      <td>455</td>\n",
       "      <td>254</td>\n",
       "    </tr>\n",
       "    <tr>\n",
       "      <th>M23-26</th>\n",
       "      <td>2440</td>\n",
       "      <td>712</td>\n",
       "      <td>410</td>\n",
       "      <td>700</td>\n",
       "      <td>1420</td>\n",
       "      <td>1508</td>\n",
       "      <td>947</td>\n",
       "      <td>333</td>\n",
       "    </tr>\n",
       "    <tr>\n",
       "      <th>M22-</th>\n",
       "      <td>1929</td>\n",
       "      <td>675</td>\n",
       "      <td>360</td>\n",
       "      <td>692</td>\n",
       "      <td>857</td>\n",
       "      <td>1015</td>\n",
       "      <td>833</td>\n",
       "      <td>262</td>\n",
       "    </tr>\n",
       "    <tr>\n",
       "      <th>M39+</th>\n",
       "      <td>1745</td>\n",
       "      <td>442</td>\n",
       "      <td>491</td>\n",
       "      <td>394</td>\n",
       "      <td>1777</td>\n",
       "      <td>1945</td>\n",
       "      <td>282</td>\n",
       "      <td>408</td>\n",
       "    </tr>\n",
       "    <tr>\n",
       "      <th>F27-28</th>\n",
       "      <td>796</td>\n",
       "      <td>299</td>\n",
       "      <td>119</td>\n",
       "      <td>345</td>\n",
       "      <td>590</td>\n",
       "      <td>428</td>\n",
       "      <td>179</td>\n",
       "      <td>82</td>\n",
       "    </tr>\n",
       "    <tr>\n",
       "      <th>M27-28</th>\n",
       "      <td>1379</td>\n",
       "      <td>397</td>\n",
       "      <td>223</td>\n",
       "      <td>350</td>\n",
       "      <td>964</td>\n",
       "      <td>932</td>\n",
       "      <td>443</td>\n",
       "      <td>183</td>\n",
       "    </tr>\n",
       "    <tr>\n",
       "      <th>F29-32</th>\n",
       "      <td>1098</td>\n",
       "      <td>429</td>\n",
       "      <td>143</td>\n",
       "      <td>414</td>\n",
       "      <td>1025</td>\n",
       "      <td>752</td>\n",
       "      <td>202</td>\n",
       "      <td>148</td>\n",
       "    </tr>\n",
       "    <tr>\n",
       "      <th>F33-42</th>\n",
       "      <td>1174</td>\n",
       "      <td>407</td>\n",
       "      <td>268</td>\n",
       "      <td>355</td>\n",
       "      <td>1360</td>\n",
       "      <td>1106</td>\n",
       "      <td>181</td>\n",
       "      <td>192</td>\n",
       "    </tr>\n",
       "    <tr>\n",
       "      <th>F23-</th>\n",
       "      <td>946</td>\n",
       "      <td>741</td>\n",
       "      <td>218</td>\n",
       "      <td>801</td>\n",
       "      <td>682</td>\n",
       "      <td>620</td>\n",
       "      <td>326</td>\n",
       "      <td>166</td>\n",
       "    </tr>\n",
       "    <tr>\n",
       "      <th>F43+</th>\n",
       "      <td>935</td>\n",
       "      <td>260</td>\n",
       "      <td>195</td>\n",
       "      <td>220</td>\n",
       "      <td>1026</td>\n",
       "      <td>784</td>\n",
       "      <td>156</td>\n",
       "      <td>185</td>\n",
       "    </tr>\n",
       "    <tr>\n",
       "      <th>F24-26</th>\n",
       "      <td>981</td>\n",
       "      <td>445</td>\n",
       "      <td>136</td>\n",
       "      <td>525</td>\n",
       "      <td>760</td>\n",
       "      <td>567</td>\n",
       "      <td>262</td>\n",
       "      <td>121</td>\n",
       "    </tr>\n",
       "  </tbody>\n",
       "</table>\n",
       "</div>"
      ],
      "text/plain": [
       "       xiaomi OPPO coolpad vivo samsung huawei meizu lenovo\n",
       "M32-38   2147  554     448  466    1929   1938   444    361\n",
       "M29-31   1766  441     338  396    1316   1406   455    254\n",
       "M23-26   2440  712     410  700    1420   1508   947    333\n",
       "M22-     1929  675     360  692     857   1015   833    262\n",
       "M39+     1745  442     491  394    1777   1945   282    408\n",
       "F27-28    796  299     119  345     590    428   179     82\n",
       "M27-28   1379  397     223  350     964    932   443    183\n",
       "F29-32   1098  429     143  414    1025    752   202    148\n",
       "F33-42   1174  407     268  355    1360   1106   181    192\n",
       "F23-      946  741     218  801     682    620   326    166\n",
       "F43+      935  260     195  220    1026    784   156    185\n",
       "F24-26    981  445     136  525     760    567   262    121"
      ]
     },
     "execution_count": 185,
     "metadata": {},
     "output_type": "execute_result"
    }
   ],
   "source": [
    "dataframe2"
   ]
  },
  {
   "cell_type": "code",
   "execution_count": 191,
   "metadata": {
    "collapsed": true
   },
   "outputs": [],
   "source": [
    "index_names = dataframe2.index.values\n",
    "index = [4,3,1,0,5,8,2,9,10,6,11,7]"
   ]
  },
  {
   "cell_type": "code",
   "execution_count": 192,
   "metadata": {
    "collapsed": false
   },
   "outputs": [
    {
     "data": {
      "text/plain": [
       "array(['M32-38', 'M29-31', 'M23-26', 'M22-', 'M39+', 'F27-28', 'M27-28',\n",
       "       'F29-32', 'F33-42', 'F23-', 'F43+', 'F24-26'], dtype=object)"
      ]
     },
     "execution_count": 192,
     "metadata": {},
     "output_type": "execute_result"
    }
   ],
   "source": [
    "index_names"
   ]
  },
  {
   "cell_type": "code",
   "execution_count": 196,
   "metadata": {
    "collapsed": false
   },
   "outputs": [],
   "source": [
    "df3 = dataframe2.copy()\n",
    "df3.index = index"
   ]
  },
  {
   "cell_type": "code",
   "execution_count": 197,
   "metadata": {
    "collapsed": false
   },
   "outputs": [
    {
     "data": {
      "text/html": [
       "<div>\n",
       "<table border=\"1\" class=\"dataframe\">\n",
       "  <thead>\n",
       "    <tr style=\"text-align: right;\">\n",
       "      <th></th>\n",
       "      <th>xiaomi</th>\n",
       "      <th>OPPO</th>\n",
       "      <th>coolpad</th>\n",
       "      <th>vivo</th>\n",
       "      <th>samsung</th>\n",
       "      <th>huawei</th>\n",
       "      <th>meizu</th>\n",
       "      <th>lenovo</th>\n",
       "    </tr>\n",
       "  </thead>\n",
       "  <tbody>\n",
       "    <tr>\n",
       "      <th>4</th>\n",
       "      <td>2147</td>\n",
       "      <td>554</td>\n",
       "      <td>448</td>\n",
       "      <td>466</td>\n",
       "      <td>1929</td>\n",
       "      <td>1938</td>\n",
       "      <td>444</td>\n",
       "      <td>361</td>\n",
       "    </tr>\n",
       "    <tr>\n",
       "      <th>3</th>\n",
       "      <td>1766</td>\n",
       "      <td>441</td>\n",
       "      <td>338</td>\n",
       "      <td>396</td>\n",
       "      <td>1316</td>\n",
       "      <td>1406</td>\n",
       "      <td>455</td>\n",
       "      <td>254</td>\n",
       "    </tr>\n",
       "    <tr>\n",
       "      <th>1</th>\n",
       "      <td>2440</td>\n",
       "      <td>712</td>\n",
       "      <td>410</td>\n",
       "      <td>700</td>\n",
       "      <td>1420</td>\n",
       "      <td>1508</td>\n",
       "      <td>947</td>\n",
       "      <td>333</td>\n",
       "    </tr>\n",
       "    <tr>\n",
       "      <th>0</th>\n",
       "      <td>1929</td>\n",
       "      <td>675</td>\n",
       "      <td>360</td>\n",
       "      <td>692</td>\n",
       "      <td>857</td>\n",
       "      <td>1015</td>\n",
       "      <td>833</td>\n",
       "      <td>262</td>\n",
       "    </tr>\n",
       "    <tr>\n",
       "      <th>5</th>\n",
       "      <td>1745</td>\n",
       "      <td>442</td>\n",
       "      <td>491</td>\n",
       "      <td>394</td>\n",
       "      <td>1777</td>\n",
       "      <td>1945</td>\n",
       "      <td>282</td>\n",
       "      <td>408</td>\n",
       "    </tr>\n",
       "    <tr>\n",
       "      <th>8</th>\n",
       "      <td>796</td>\n",
       "      <td>299</td>\n",
       "      <td>119</td>\n",
       "      <td>345</td>\n",
       "      <td>590</td>\n",
       "      <td>428</td>\n",
       "      <td>179</td>\n",
       "      <td>82</td>\n",
       "    </tr>\n",
       "    <tr>\n",
       "      <th>2</th>\n",
       "      <td>1379</td>\n",
       "      <td>397</td>\n",
       "      <td>223</td>\n",
       "      <td>350</td>\n",
       "      <td>964</td>\n",
       "      <td>932</td>\n",
       "      <td>443</td>\n",
       "      <td>183</td>\n",
       "    </tr>\n",
       "    <tr>\n",
       "      <th>9</th>\n",
       "      <td>1098</td>\n",
       "      <td>429</td>\n",
       "      <td>143</td>\n",
       "      <td>414</td>\n",
       "      <td>1025</td>\n",
       "      <td>752</td>\n",
       "      <td>202</td>\n",
       "      <td>148</td>\n",
       "    </tr>\n",
       "    <tr>\n",
       "      <th>10</th>\n",
       "      <td>1174</td>\n",
       "      <td>407</td>\n",
       "      <td>268</td>\n",
       "      <td>355</td>\n",
       "      <td>1360</td>\n",
       "      <td>1106</td>\n",
       "      <td>181</td>\n",
       "      <td>192</td>\n",
       "    </tr>\n",
       "    <tr>\n",
       "      <th>6</th>\n",
       "      <td>946</td>\n",
       "      <td>741</td>\n",
       "      <td>218</td>\n",
       "      <td>801</td>\n",
       "      <td>682</td>\n",
       "      <td>620</td>\n",
       "      <td>326</td>\n",
       "      <td>166</td>\n",
       "    </tr>\n",
       "    <tr>\n",
       "      <th>11</th>\n",
       "      <td>935</td>\n",
       "      <td>260</td>\n",
       "      <td>195</td>\n",
       "      <td>220</td>\n",
       "      <td>1026</td>\n",
       "      <td>784</td>\n",
       "      <td>156</td>\n",
       "      <td>185</td>\n",
       "    </tr>\n",
       "    <tr>\n",
       "      <th>7</th>\n",
       "      <td>981</td>\n",
       "      <td>445</td>\n",
       "      <td>136</td>\n",
       "      <td>525</td>\n",
       "      <td>760</td>\n",
       "      <td>567</td>\n",
       "      <td>262</td>\n",
       "      <td>121</td>\n",
       "    </tr>\n",
       "  </tbody>\n",
       "</table>\n",
       "</div>"
      ],
      "text/plain": [
       "   xiaomi OPPO coolpad vivo samsung huawei meizu lenovo\n",
       "4    2147  554     448  466    1929   1938   444    361\n",
       "3    1766  441     338  396    1316   1406   455    254\n",
       "1    2440  712     410  700    1420   1508   947    333\n",
       "0    1929  675     360  692     857   1015   833    262\n",
       "5    1745  442     491  394    1777   1945   282    408\n",
       "8     796  299     119  345     590    428   179     82\n",
       "2    1379  397     223  350     964    932   443    183\n",
       "9    1098  429     143  414    1025    752   202    148\n",
       "10   1174  407     268  355    1360   1106   181    192\n",
       "6     946  741     218  801     682    620   326    166\n",
       "11    935  260     195  220    1026    784   156    185\n",
       "7     981  445     136  525     760    567   262    121"
      ]
     },
     "execution_count": 197,
     "metadata": {},
     "output_type": "execute_result"
    }
   ],
   "source": [
    "df3"
   ]
  },
  {
   "cell_type": "code",
   "execution_count": 200,
   "metadata": {
    "collapsed": false
   },
   "outputs": [
    {
     "data": {
      "text/html": [
       "<div>\n",
       "<table border=\"1\" class=\"dataframe\">\n",
       "  <thead>\n",
       "    <tr style=\"text-align: right;\">\n",
       "      <th></th>\n",
       "      <th>xiaomi</th>\n",
       "      <th>OPPO</th>\n",
       "      <th>coolpad</th>\n",
       "      <th>vivo</th>\n",
       "      <th>samsung</th>\n",
       "      <th>huawei</th>\n",
       "      <th>meizu</th>\n",
       "      <th>lenovo</th>\n",
       "    </tr>\n",
       "  </thead>\n",
       "  <tbody>\n",
       "    <tr>\n",
       "      <th>0</th>\n",
       "      <td>1929</td>\n",
       "      <td>675</td>\n",
       "      <td>360</td>\n",
       "      <td>692</td>\n",
       "      <td>857</td>\n",
       "      <td>1015</td>\n",
       "      <td>833</td>\n",
       "      <td>262</td>\n",
       "    </tr>\n",
       "    <tr>\n",
       "      <th>1</th>\n",
       "      <td>2440</td>\n",
       "      <td>712</td>\n",
       "      <td>410</td>\n",
       "      <td>700</td>\n",
       "      <td>1420</td>\n",
       "      <td>1508</td>\n",
       "      <td>947</td>\n",
       "      <td>333</td>\n",
       "    </tr>\n",
       "    <tr>\n",
       "      <th>2</th>\n",
       "      <td>1379</td>\n",
       "      <td>397</td>\n",
       "      <td>223</td>\n",
       "      <td>350</td>\n",
       "      <td>964</td>\n",
       "      <td>932</td>\n",
       "      <td>443</td>\n",
       "      <td>183</td>\n",
       "    </tr>\n",
       "    <tr>\n",
       "      <th>3</th>\n",
       "      <td>1766</td>\n",
       "      <td>441</td>\n",
       "      <td>338</td>\n",
       "      <td>396</td>\n",
       "      <td>1316</td>\n",
       "      <td>1406</td>\n",
       "      <td>455</td>\n",
       "      <td>254</td>\n",
       "    </tr>\n",
       "    <tr>\n",
       "      <th>4</th>\n",
       "      <td>2147</td>\n",
       "      <td>554</td>\n",
       "      <td>448</td>\n",
       "      <td>466</td>\n",
       "      <td>1929</td>\n",
       "      <td>1938</td>\n",
       "      <td>444</td>\n",
       "      <td>361</td>\n",
       "    </tr>\n",
       "    <tr>\n",
       "      <th>5</th>\n",
       "      <td>1745</td>\n",
       "      <td>442</td>\n",
       "      <td>491</td>\n",
       "      <td>394</td>\n",
       "      <td>1777</td>\n",
       "      <td>1945</td>\n",
       "      <td>282</td>\n",
       "      <td>408</td>\n",
       "    </tr>\n",
       "    <tr>\n",
       "      <th>6</th>\n",
       "      <td>946</td>\n",
       "      <td>741</td>\n",
       "      <td>218</td>\n",
       "      <td>801</td>\n",
       "      <td>682</td>\n",
       "      <td>620</td>\n",
       "      <td>326</td>\n",
       "      <td>166</td>\n",
       "    </tr>\n",
       "    <tr>\n",
       "      <th>7</th>\n",
       "      <td>981</td>\n",
       "      <td>445</td>\n",
       "      <td>136</td>\n",
       "      <td>525</td>\n",
       "      <td>760</td>\n",
       "      <td>567</td>\n",
       "      <td>262</td>\n",
       "      <td>121</td>\n",
       "    </tr>\n",
       "    <tr>\n",
       "      <th>8</th>\n",
       "      <td>796</td>\n",
       "      <td>299</td>\n",
       "      <td>119</td>\n",
       "      <td>345</td>\n",
       "      <td>590</td>\n",
       "      <td>428</td>\n",
       "      <td>179</td>\n",
       "      <td>82</td>\n",
       "    </tr>\n",
       "    <tr>\n",
       "      <th>9</th>\n",
       "      <td>1098</td>\n",
       "      <td>429</td>\n",
       "      <td>143</td>\n",
       "      <td>414</td>\n",
       "      <td>1025</td>\n",
       "      <td>752</td>\n",
       "      <td>202</td>\n",
       "      <td>148</td>\n",
       "    </tr>\n",
       "    <tr>\n",
       "      <th>10</th>\n",
       "      <td>1174</td>\n",
       "      <td>407</td>\n",
       "      <td>268</td>\n",
       "      <td>355</td>\n",
       "      <td>1360</td>\n",
       "      <td>1106</td>\n",
       "      <td>181</td>\n",
       "      <td>192</td>\n",
       "    </tr>\n",
       "    <tr>\n",
       "      <th>11</th>\n",
       "      <td>935</td>\n",
       "      <td>260</td>\n",
       "      <td>195</td>\n",
       "      <td>220</td>\n",
       "      <td>1026</td>\n",
       "      <td>784</td>\n",
       "      <td>156</td>\n",
       "      <td>185</td>\n",
       "    </tr>\n",
       "  </tbody>\n",
       "</table>\n",
       "</div>"
      ],
      "text/plain": [
       "   xiaomi OPPO coolpad vivo samsung huawei meizu lenovo\n",
       "0    1929  675     360  692     857   1015   833    262\n",
       "1    2440  712     410  700    1420   1508   947    333\n",
       "2    1379  397     223  350     964    932   443    183\n",
       "3    1766  441     338  396    1316   1406   455    254\n",
       "4    2147  554     448  466    1929   1938   444    361\n",
       "5    1745  442     491  394    1777   1945   282    408\n",
       "6     946  741     218  801     682    620   326    166\n",
       "7     981  445     136  525     760    567   262    121\n",
       "8     796  299     119  345     590    428   179     82\n",
       "9    1098  429     143  414    1025    752   202    148\n",
       "10   1174  407     268  355    1360   1106   181    192\n",
       "11    935  260     195  220    1026    784   156    185"
      ]
     },
     "execution_count": 200,
     "metadata": {},
     "output_type": "execute_result"
    }
   ],
   "source": [
    "df3.sort_index(inplace=True)\n",
    "df3"
   ]
  },
  {
   "cell_type": "code",
   "execution_count": 188,
   "metadata": {
    "collapsed": false
   },
   "outputs": [
    {
     "data": {
      "text/plain": [
       "[4, 3, 1, 0, 5, 8, 2, 9, 10, 6, 11, 7]"
      ]
     },
     "execution_count": 188,
     "metadata": {},
     "output_type": "execute_result"
    }
   ],
   "source": [
    "index"
   ]
  },
  {
   "cell_type": "code",
   "execution_count": 186,
   "metadata": {
    "collapsed": false
   },
   "outputs": [
    {
     "data": {
      "text/plain": [
       "<bound method DataFrame.sort_index of        xiaomi OPPO coolpad vivo samsung huawei meizu lenovo\n",
       "M32-38   2147  554     448  466    1929   1938   444    361\n",
       "M29-31   1766  441     338  396    1316   1406   455    254\n",
       "M23-26   2440  712     410  700    1420   1508   947    333\n",
       "M22-     1929  675     360  692     857   1015   833    262\n",
       "M39+     1745  442     491  394    1777   1945   282    408\n",
       "F27-28    796  299     119  345     590    428   179     82\n",
       "M27-28   1379  397     223  350     964    932   443    183\n",
       "F29-32   1098  429     143  414    1025    752   202    148\n",
       "F33-42   1174  407     268  355    1360   1106   181    192\n",
       "F23-      946  741     218  801     682    620   326    166\n",
       "F43+      935  260     195  220    1026    784   156    185\n",
       "F24-26    981  445     136  525     760    567   262    121>"
      ]
     },
     "execution_count": 186,
     "metadata": {},
     "output_type": "execute_result"
    }
   ],
   "source": [
    "dataframe2.sort_index"
   ]
  },
  {
   "cell_type": "code",
   "execution_count": null,
   "metadata": {
    "collapsed": true
   },
   "outputs": [],
   "source": [
    "df2=df.sort_index(ascending=0)"
   ]
  },
  {
   "cell_type": "code",
   "execution_count": 220,
   "metadata": {
    "collapsed": false,
    "scrolled": true
   },
   "outputs": [
    {
     "data": {
      "text/html": [
       "<div>\n",
       "<table border=\"1\" class=\"dataframe\">\n",
       "  <thead>\n",
       "    <tr style=\"text-align: right;\">\n",
       "      <th></th>\n",
       "      <th>xiaomi</th>\n",
       "      <th>OPPO</th>\n",
       "      <th>coolpad</th>\n",
       "      <th>vivo</th>\n",
       "      <th>samsung</th>\n",
       "      <th>huawei</th>\n",
       "      <th>meizu</th>\n",
       "      <th>lenovo</th>\n",
       "    </tr>\n",
       "  </thead>\n",
       "  <tbody>\n",
       "    <tr>\n",
       "      <th>F23-</th>\n",
       "      <td>2147</td>\n",
       "      <td>554</td>\n",
       "      <td>448</td>\n",
       "      <td>466</td>\n",
       "      <td>1929</td>\n",
       "      <td>1938</td>\n",
       "      <td>444</td>\n",
       "      <td>361</td>\n",
       "    </tr>\n",
       "    <tr>\n",
       "      <th>F24-26</th>\n",
       "      <td>1766</td>\n",
       "      <td>441</td>\n",
       "      <td>338</td>\n",
       "      <td>396</td>\n",
       "      <td>1316</td>\n",
       "      <td>1406</td>\n",
       "      <td>455</td>\n",
       "      <td>254</td>\n",
       "    </tr>\n",
       "    <tr>\n",
       "      <th>F27-28</th>\n",
       "      <td>2440</td>\n",
       "      <td>712</td>\n",
       "      <td>410</td>\n",
       "      <td>700</td>\n",
       "      <td>1420</td>\n",
       "      <td>1508</td>\n",
       "      <td>947</td>\n",
       "      <td>333</td>\n",
       "    </tr>\n",
       "    <tr>\n",
       "      <th>F29-32</th>\n",
       "      <td>1929</td>\n",
       "      <td>675</td>\n",
       "      <td>360</td>\n",
       "      <td>692</td>\n",
       "      <td>857</td>\n",
       "      <td>1015</td>\n",
       "      <td>833</td>\n",
       "      <td>262</td>\n",
       "    </tr>\n",
       "    <tr>\n",
       "      <th>F33-42</th>\n",
       "      <td>1745</td>\n",
       "      <td>442</td>\n",
       "      <td>491</td>\n",
       "      <td>394</td>\n",
       "      <td>1777</td>\n",
       "      <td>1945</td>\n",
       "      <td>282</td>\n",
       "      <td>408</td>\n",
       "    </tr>\n",
       "    <tr>\n",
       "      <th>F43+</th>\n",
       "      <td>796</td>\n",
       "      <td>299</td>\n",
       "      <td>119</td>\n",
       "      <td>345</td>\n",
       "      <td>590</td>\n",
       "      <td>428</td>\n",
       "      <td>179</td>\n",
       "      <td>82</td>\n",
       "    </tr>\n",
       "    <tr>\n",
       "      <th>M22-</th>\n",
       "      <td>1379</td>\n",
       "      <td>397</td>\n",
       "      <td>223</td>\n",
       "      <td>350</td>\n",
       "      <td>964</td>\n",
       "      <td>932</td>\n",
       "      <td>443</td>\n",
       "      <td>183</td>\n",
       "    </tr>\n",
       "    <tr>\n",
       "      <th>M23-26</th>\n",
       "      <td>1098</td>\n",
       "      <td>429</td>\n",
       "      <td>143</td>\n",
       "      <td>414</td>\n",
       "      <td>1025</td>\n",
       "      <td>752</td>\n",
       "      <td>202</td>\n",
       "      <td>148</td>\n",
       "    </tr>\n",
       "    <tr>\n",
       "      <th>M27-28</th>\n",
       "      <td>1174</td>\n",
       "      <td>407</td>\n",
       "      <td>268</td>\n",
       "      <td>355</td>\n",
       "      <td>1360</td>\n",
       "      <td>1106</td>\n",
       "      <td>181</td>\n",
       "      <td>192</td>\n",
       "    </tr>\n",
       "    <tr>\n",
       "      <th>M29-31</th>\n",
       "      <td>946</td>\n",
       "      <td>741</td>\n",
       "      <td>218</td>\n",
       "      <td>801</td>\n",
       "      <td>682</td>\n",
       "      <td>620</td>\n",
       "      <td>326</td>\n",
       "      <td>166</td>\n",
       "    </tr>\n",
       "    <tr>\n",
       "      <th>M32-38</th>\n",
       "      <td>935</td>\n",
       "      <td>260</td>\n",
       "      <td>195</td>\n",
       "      <td>220</td>\n",
       "      <td>1026</td>\n",
       "      <td>784</td>\n",
       "      <td>156</td>\n",
       "      <td>185</td>\n",
       "    </tr>\n",
       "    <tr>\n",
       "      <th>M39+</th>\n",
       "      <td>981</td>\n",
       "      <td>445</td>\n",
       "      <td>136</td>\n",
       "      <td>525</td>\n",
       "      <td>760</td>\n",
       "      <td>567</td>\n",
       "      <td>262</td>\n",
       "      <td>121</td>\n",
       "    </tr>\n",
       "  </tbody>\n",
       "</table>\n",
       "</div>"
      ],
      "text/plain": [
       "       xiaomi OPPO coolpad vivo samsung huawei meizu lenovo\n",
       "F23-     2147  554     448  466    1929   1938   444    361\n",
       "F24-26   1766  441     338  396    1316   1406   455    254\n",
       "F27-28   2440  712     410  700    1420   1508   947    333\n",
       "F29-32   1929  675     360  692     857   1015   833    262\n",
       "F33-42   1745  442     491  394    1777   1945   282    408\n",
       "F43+      796  299     119  345     590    428   179     82\n",
       "M22-     1379  397     223  350     964    932   443    183\n",
       "M23-26   1098  429     143  414    1025    752   202    148\n",
       "M27-28   1174  407     268  355    1360   1106   181    192\n",
       "M29-31    946  741     218  801     682    620   326    166\n",
       "M32-38    935  260     195  220    1026    784   156    185\n",
       "M39+      981  445     136  525     760    567   262    121"
      ]
     },
     "execution_count": 220,
     "metadata": {},
     "output_type": "execute_result"
    }
   ],
   "source": [
    "dataframe2"
   ]
  },
  {
   "cell_type": "code",
   "execution_count": 212,
   "metadata": {
    "collapsed": false
   },
   "outputs": [
    {
     "name": "stdout",
     "output_type": "stream",
     "text": [
      "['F23-' 'F24-26' 'F27-28' 'F29-32' 'F33-42' 'F43+' 'M22-' 'M23-26' 'M27-28'\n",
      " 'M29-31' 'M32-38' 'M39+']\n"
     ]
    }
   ],
   "source": [
    "print(np.sort(dataframe2.index.values))"
   ]
  },
  {
   "cell_type": "code",
   "execution_count": 241,
   "metadata": {
    "collapsed": false,
    "scrolled": true
   },
   "outputs": [
    {
     "name": "stdout",
     "output_type": "stream",
     "text": [
      "       xiaomi OPPO coolpad vivo samsung huawei meizu lenovo\n",
      "M32-38   2147  554     448  466    1929   1938   444    361\n",
      "M29-31   1766  441     338  396    1316   1406   455    254\n",
      "M23-26   2440  712     410  700    1420   1508   947    333\n",
      "M22-     1929  675     360  692     857   1015   833    262\n",
      "M39+     1745  442     491  394    1777   1945   282    408\n",
      "F27-28    796  299     119  345     590    428   179     82\n",
      "M27-28   1379  397     223  350     964    932   443    183\n",
      "F29-32   1098  429     143  414    1025    752   202    148\n",
      "F33-42   1174  407     268  355    1360   1106   181    192\n",
      "F23-      946  741     218  801     682    620   326    166\n",
      "F43+      935  260     195  220    1026    784   156    185\n",
      "F24-26    981  445     136  525     760    567   262    121\n"
     ]
    }
   ],
   "source": [
    "print(dataframe2)"
   ]
  },
  {
   "cell_type": "code",
   "execution_count": 242,
   "metadata": {
    "collapsed": false
   },
   "outputs": [
    {
     "name": "stdout",
     "output_type": "stream",
     "text": [
      "['F23-' 'F24-26' 'F27-28' 'F29-32' 'F33-42' 'F43+' 'M22-' 'M23-26' 'M27-28'\n",
      " 'M29-31' 'M32-38' 'M39+']\n",
      "       xiaomi OPPO coolpad vivo samsung huawei meizu lenovo\n",
      "F23-     2147  554     448  466    1929   1938   444    361\n",
      "F24-26   1766  441     338  396    1316   1406   455    254\n",
      "F27-28   2440  712     410  700    1420   1508   947    333\n",
      "F29-32   1929  675     360  692     857   1015   833    262\n",
      "F33-42   1745  442     491  394    1777   1945   282    408\n",
      "F43+      796  299     119  345     590    428   179     82\n",
      "M22-     1379  397     223  350     964    932   443    183\n",
      "M23-26   1098  429     143  414    1025    752   202    148\n",
      "M27-28   1174  407     268  355    1360   1106   181    192\n",
      "M29-31    946  741     218  801     682    620   326    166\n",
      "M32-38    935  260     195  220    1026    784   156    185\n",
      "M39+      981  445     136  525     760    567   262    121\n"
     ]
    }
   ],
   "source": [
    "index_names = np.sort(dataframe2.index.values)\n",
    "print(index_names)\n",
    "index = [i in range(0,11)]\n",
    "\n",
    "df = dataframe2.copy()\n",
    "df.index = index_names\n",
    "print(df)"
   ]
  },
  {
   "cell_type": "code",
   "execution_count": 243,
   "metadata": {
    "collapsed": false,
    "scrolled": false
   },
   "outputs": [
    {
     "name": "stdout",
     "output_type": "stream",
     "text": [
      "['F23-' 'F24-26' 'F27-28' 'F29-32' 'F33-42' 'F43+' 'M22-' 'M23-26' 'M27-28'\n",
      " 'M29-31' 'M32-38' 'M39+']\n",
      "   xiaomi OPPO coolpad vivo samsung huawei meizu lenovo\n",
      "9    2147  554     448  466    1929   1938   444    361\n",
      "11   1766  441     338  396    1316   1406   455    254\n",
      "5    2440  712     410  700    1420   1508   947    333\n",
      "7    1929  675     360  692     857   1015   833    262\n",
      "8    1745  442     491  394    1777   1945   282    408\n",
      "10    796  299     119  345     590    428   179     82\n",
      "3    1379  397     223  350     964    932   443    183\n",
      "2    1098  429     143  414    1025    752   202    148\n",
      "6    1174  407     268  355    1360   1106   181    192\n",
      "1     946  741     218  801     682    620   326    166\n",
      "0     935  260     195  220    1026    784   156    185\n",
      "4     981  445     136  525     760    567   262    121\n",
      "[ 0  1  2  3  4  5  6  7  8  9 10 11]\n"
     ]
    },
    {
     "data": {
      "image/png": "[encoded data removed]",
      "text/plain": [
       "<matplotlib.figure.Figure at 0x1d657095940>"
      ]
     },
     "metadata": {},
     "output_type": "display_data"
    }
   ],
   "source": [
    "\n",
    "\n",
    "index_names = np.sort(dataframe2.index.values)\n",
    "print(index_names)\n",
    "index = [i in range(0,11)]\n",
    "\n",
    "df = dataframe2.copy()\n",
    "df.index = [9,11,5,7,8,10,3,2,6,1,0,4]\n",
    "print(df)\n",
    "\n",
    "df.sort_index(inplace=True)\n",
    "#print(df)\n",
    "# Create a figure with a single subplot\n",
    "f, ax = plt.subplots(1, figsize=(10,5))\n",
    "\n",
    "# Set bar width at 1\n",
    "bar_width = 1\n",
    "\n",
    "# positions of the left bar-boundaries\n",
    "bar_l = [i for i in range(len(df[\"xiaomi\"]))] \n",
    "\n",
    "# positions of the x-axis ticks (center of the bars as bar labels)\n",
    "tick_pos = [i+(bar_width/2) for i in bar_l] \n",
    "\n",
    "# Create the total score for each participant\n",
    "columns = [df['xiaomi'], df['OPPO'], df['coolpad'], df[\"vivo\"],df[\"samsung\"],df[\"huawei\"],df[\"meizu\"],df[\"lenovo\"]]\n",
    "totals = [i1+i2+i3+i4+i5+i6+i7+i8 for i1,i2,i3,i4,i5,i6,i7,i8 in zip(df['xiaomi'], df['OPPO'], df['coolpad'], df[\"vivo\"],df[\"samsung\"],df[\"huawei\"],df[\"meizu\"],df[\"lenovo\"])]\n",
    "#print(totals)\n",
    "# Create the percentage of the total score the pre_score value for each participant was\n",
    "xia_rel = [i / j * 100 for  i,j in zip(df['xiaomi'], totals)]\n",
    "#print(xia_rel)\n",
    "# Create the percentage of the total score the mid_score value for each participant was\n",
    "oppo_rel = [i / j * 100 for  i,j in zip(df['OPPO'], totals)]\n",
    "#print(oppo_rel)\n",
    "# Create the percentage of the total score the post_score value for each participant was\n",
    "coolpad_rel = [i / j * 100 for  i,j in zip(df['coolpad'], totals)]\n",
    "\n",
    "# Create the percentage of the total score the post_score value for each participant was\n",
    "vivo_rel = [i / j * 100 for  i,j in zip(df['vivo'], totals)]\n",
    "\n",
    "# Create the percentage of the total score the post_score value for each participant was\n",
    "samsung_rel = [i / j * 100 for  i,j in zip(df['samsung'], totals)]\n",
    "\n",
    "# Create the percentage of the total score the post_score value for each participant was\n",
    "huawei_rel = [i / j * 100 for  i,j in zip(df['huawei'], totals)]\n",
    "\n",
    "# Create the percentage of the total score the post_score value for each participant was\n",
    "meizu_rel = [i / j * 100 for  i,j in zip(df['meizu'], totals)]\n",
    "\n",
    "# Create the percentage of the total score the post_score value for each participant was\n",
    "lenovo_rel = [i / j * 100 for  i,j in zip(df['lenovo'], totals)]\n",
    "\n",
    "names = [\"xiaomi\",\"OPPO\",\"coolpad\",\"vivo\",\"samsung\",\"huawei\",\"meizu\",\"lenovo\"]\n",
    "rels = [xia_rel,oppo_rel,coolpad_rel,vivo_rel,samsung_rel,huawei_rel,meizu_rel,lenovo_rel]\n",
    "#print(rels)\n",
    "colors = [\"#019600\",\"#00968e\",\"#f40c0c\",\"#0caef4\",\"#ff49ef\",\"#49ff5e\",\"#ffce49\",\"#666460\"]\n",
    "\n",
    "#for rel in range(0,len(rels)):\n",
    "    #ax.bar(bar_l,rels[rel],label = names[rel], alpha=0.9, color=colors[rel],width=bar_width,edgecolor=\"white\")\n",
    "\n",
    "#for rel in range(0,5):\n",
    "   # ax.bar(bar_l,rels[rel],label = names[rel], alpha=0.9, color=colors[rel],width=bar_width,edgecolor=\"white\")\n",
    "    \n",
    "bottom = [0] * 8\n",
    "\n",
    "\n",
    "#print(zip(rels[4:]))\n",
    "\n",
    "for rel in range(0,len(rels)):\n",
    "# Create a bar chart in position bar_1\n",
    "    if rel==0:\n",
    "        btm=[0]*12\n",
    "    else:\n",
    "        btm=[sum(x) for x in zip(*rels[:rel])]\n",
    "        \n",
    "    ax.bar(bar_l, \n",
    "       # using mid_rel data\n",
    "       rels[rel], \n",
    "       # with pre_rel\n",
    "       bottom=btm, \n",
    "       # labeled \n",
    "       label=names[rel], \n",
    "       # with alpha\n",
    "       alpha=0.9, \n",
    "       # with color\n",
    "       color=colors[rel], \n",
    "       # with bar width\n",
    "       width=bar_width,\n",
    "       # with border color\n",
    "       edgecolor='white'\n",
    "       ) \n",
    "    \n",
    "# Set the ticks to be first names\n",
    "print(df.index.values)\n",
    "plt.xticks(tick_pos, index_names)\n",
    "ax.set_ylabel(\"Percentage\")\n",
    "ax.set_xlabel(\"\")\n",
    "\n",
    "# Let the borders of the graphic\n",
    "plt.xlim([min(tick_pos)-bar_width, max(tick_pos)+bar_width])\n",
    "plt.ylim(-10, 110)\n",
    "\n",
    "# rotate axis labels\n",
    "plt.setp(plt.gca().get_xticklabels(), rotation=45, horizontalalignment='right')\n",
    "\n",
    "# shot plot\n",
    "plt.show()   "
   ]
  },
  {
   "cell_type": "code",
   "execution_count": 327,
   "metadata": {
    "collapsed": false,
    "scrolled": false
   },
   "outputs": [
    {
     "name": "stdout",
     "output_type": "stream",
     "text": [
      "['F23-' 'F24-26' 'F27-28' 'F29-32' 'F33-42' 'F43+' 'M22-' 'M23-26' 'M27-28'\n",
      " 'M29-31' 'M32-38' 'M39+']\n",
      "   xiaomi OPPO coolpad vivo samsung huawei meizu lenovo\n",
      "9    2147  554     448  466    1929   1938   444    361\n",
      "11   1766  441     338  396    1316   1406   455    254\n",
      "5    2440  712     410  700    1420   1508   947    333\n",
      "7    1929  675     360  692     857   1015   833    262\n",
      "8    1745  442     491  394    1777   1945   282    408\n",
      "10    796  299     119  345     590    428   179     82\n",
      "3    1379  397     223  350     964    932   443    183\n",
      "2    1098  429     143  414    1025    752   202    148\n",
      "6    1174  407     268  355    1360   1106   181    192\n",
      "1     946  741     218  801     682    620   326    166\n",
      "0     935  260     195  220    1026    784   156    185\n",
      "4     981  445     136  525     760    567   262    121\n",
      "   xiaomi OPPO coolpad vivo samsung huawei meizu lenovo\n",
      "0     935  260     195  220    1026    784   156    185\n",
      "1     946  741     218  801     682    620   326    166\n",
      "2    1098  429     143  414    1025    752   202    148\n",
      "3    1379  397     223  350     964    932   443    183\n",
      "4     981  445     136  525     760    567   262    121\n",
      "5    2440  712     410  700    1420   1508   947    333\n",
      "6    1174  407     268  355    1360   1106   181    192\n",
      "7    1929  675     360  692     857   1015   833    262\n",
      "8    1745  442     491  394    1777   1945   282    408\n",
      "9    2147  554     448  466    1929   1938   444    361\n",
      "10    796  299     119  345     590    428   179     82\n",
      "11   1766  441     338  396    1316   1406   455    254\n",
      "[ 0  1  2  3  4  5  6  7  8  9 10 11]\n"
     ]
    },
    {
     "data": {
      "image/png": "[encoded data removed]",
      "text/plain": [
       "<matplotlib.figure.Figure at 0x1d65c54dd30>"
      ]
     },
     "metadata": {},
     "output_type": "display_data"
    }
   ],
   "source": [
    "index_names = np.sort(dataframe2.index.values)\n",
    "print(index_names)\n",
    "index = [i in range(0,11)]\n",
    "\n",
    "df = dataframe2.copy()\n",
    "df.index = [9,11,5,7,8,10,3,2,6,1,0,4]\n",
    "print(df)\n",
    "\n",
    "df.sort_index(inplace=True)\n",
    "print(df)\n",
    "# Create a figure with a single subplot\n",
    "f, ax = plt.subplots(1, figsize=(15,12))\n",
    "\n",
    "# Set bar width at 1\n",
    "bar_width = 1\n",
    "\n",
    "# positions of the left bar-boundaries\n",
    "bar_l = [i for i in range(len(df[\"xiaomi\"]))] \n",
    "\n",
    "# positions of the x-axis ticks (center of the bars as bar labels)\n",
    "tick_pos = [i+(bar_width/2) for i in bar_l] \n",
    "\n",
    "# Create the total score for each participant\n",
    "columns = [df['xiaomi'], df['OPPO'], df['coolpad'], df[\"vivo\"],df[\"samsung\"],df[\"huawei\"],df[\"meizu\"],df[\"lenovo\"]]\n",
    "totals = [i1+i2+i3+i4+i5+i6+i7+i8 for i1,i2,i3,i4,i5,i6,i7,i8 in zip(df['xiaomi'], df['OPPO'], df['coolpad'], df[\"vivo\"],df[\"samsung\"],df[\"huawei\"],df[\"meizu\"],df[\"lenovo\"])]\n",
    "#print(totals)\n",
    "# Create the percentage of the total score the pre_score value for each participant was\n",
    "xia_rel = [i / j * 100 for  i,j in zip(df['xiaomi'], totals)]\n",
    "#print(xia_rel)\n",
    "# Create the percentage of the total score the mid_score value for each participant was\n",
    "oppo_rel = [i / j * 100 for  i,j in zip(df['OPPO'], totals)]\n",
    "#print(oppo_rel)\n",
    "# Create the percentage of the total score the post_score value for each participant was\n",
    "coolpad_rel = [i / j * 100 for  i,j in zip(df['coolpad'], totals)]\n",
    "\n",
    "# Create the percentage of the total score the post_score value for each participant was\n",
    "vivo_rel = [i / j * 100 for  i,j in zip(df['vivo'], totals)]\n",
    "\n",
    "# Create the percentage of the total score the post_score value for each participant was\n",
    "samsung_rel = [i / j * 100 for  i,j in zip(df['samsung'], totals)]\n",
    "\n",
    "# Create the percentage of the total score the post_score value for each participant was\n",
    "huawei_rel = [i / j * 100 for  i,j in zip(df['huawei'], totals)]\n",
    "\n",
    "# Create the percentage of the total score the post_score value for each participant was\n",
    "meizu_rel = [i / j * 100 for  i,j in zip(df['meizu'], totals)]\n",
    "\n",
    "# Create the percentage of the total score the post_score value for each participant was\n",
    "lenovo_rel = [i / j * 100 for  i,j in zip(df['lenovo'], totals)]\n",
    "\n",
    "names = [\"xiaomi\",\"OPPO\",\"coolpad\",\"vivo\",\"samsung\",\"huawei\",\"meizu\",\"lenovo\"]\n",
    "rels = [xia_rel,oppo_rel,coolpad_rel,vivo_rel,samsung_rel,huawei_rel,meizu_rel,lenovo_rel]\n",
    "colors = [\"#019600\",\"#00968e\",\"#f40c0c\",\"#0caef4\",\"#ff49ef\",\"#49ff5e\",\"#ffce49\",\"#666460\"]\n",
    "\n",
    "\n",
    "import copy\n",
    "relcopy = copy.deepcopy(rels)\n",
    "\n",
    "# sort after mean value highest\n",
    "rels.sort(key=lambda x: np.mean(x),reverse=True)\n",
    "\n",
    "\n",
    "for rel in range(0,len(rels)):\n",
    "# Create a bar chart in position bar_1\n",
    "    if rel==0:\n",
    "        btm=[0]*12\n",
    "    else:\n",
    "        btm=[sum(x) for x in zip(*rels[:rel])]\n",
    "     \n",
    "    idx = relcopy.index(rels[rel])\n",
    "    \n",
    "    ax.bar(bar_l, \n",
    "       # using mid_rel data\n",
    "       rels[rel], \n",
    "       # with pre_rel\n",
    "       bottom=btm, \n",
    "       # labeled \n",
    "       #label=names[rel],\n",
    "       label=names[idx],\n",
    "       # with alpha\n",
    "       alpha=0.9, \n",
    "       # with color\n",
    "       #color=colors[rel],\n",
    "       color=colors[idx],\n",
    "       # with bar width\n",
    "       width=bar_width,\n",
    "       # with border color\n",
    "       edgecolor='white'\n",
    "       ) \n",
    "    \n",
    "# Set the ticks to be first names\n",
    "print(df.index.values)\n",
    "plt.xticks(tick_pos, index_names)\n",
    "ax.set_ylabel(\"Percentage\")\n",
    "ax.set_xlabel(\"\")\n",
    "\n",
    "# Let the borders of the graphic\n",
    "plt.xlim([min(tick_pos)-bar_width, max(tick_pos)+bar_width])\n",
    "plt.ylim(-10, 110)\n",
    "\n",
    "# rotate axis labels\n",
    "plt.setp(plt.gca().get_xticklabels(), rotation=45, horizontalalignment='right')\n",
    "\n",
    "\n",
    "import matplotlib.patches as mpatches\n",
    "\n",
    "#plt.legend([mpatches.Patch(color=colors[0],label=names[0])])\n",
    "           #,mpatches.Patch(color=colors[1],label=names[1])])\n",
    "\n",
    "    \n",
    "handle, label = ax.get_legend_handles_labels()    \n",
    "\n",
    "\n",
    "#red_patch = mpatches.Patch(color='red', label='The red data')\n",
    "#blue_patch = mpatches.Patch(color='blue', label='The blue data')\n",
    "\n",
    "#plt.legend(handles=[red_patch, blue_patch])\n",
    "\n",
    "#print(names)\n",
    "   \n",
    "patches = []   \n",
    "for i in range(0,8):\n",
    "    patch = mpatches.Patch(color=colors[i],label=names[i])\n",
    "    patches.append(patch)\n",
    "    \n",
    "plt.legend(handles=patches)\n",
    "\n",
    "ax.legend(loc='upper center', bbox_to_anchor=(0.5, 1.05),\n",
    "          ncol=3, fancybox=True, shadow=True)    \n",
    "    \n",
    "#p_handle = [mpatches.Patch(color='r', alpha=0.5, linewidth=0)]\n",
    "#p_label = [u'Entry Confidence Interval']\n",
    "#handle, label = ax.get_legend_handles_labels()\n",
    "#handles=handle+p_handle\n",
    "#labels=label+p_label\n",
    "    \n",
    "    \n",
    "    \n",
    "# shot plot\n",
    "plt.show()   "
   ]
  },
  {
   "cell_type": "markdown",
   "metadata": {},
   "source": [
    "In dieser Visualisierung ist zu erkennen, dass die zweitjüngste Altersgruppe (F24-26 und M23-26) statistisch betrachtet deutlich seltener die Premium-Marken Huawei oder Samsung besitzen, dafür aber öfter die Billigmarken vivo/OPPO/meizu. Da es sich bei dieser Altersgruppe um Studenten handelt, welche möglicherweise einen eigenen Haushalt betreiben, bleibt weniger Geld für Premiummarken übrig."
   ]
  },
  {
   "cell_type": "code",
   "execution_count": 333,
   "metadata": {
    "collapsed": false,
    "scrolled": false
   },
   "outputs": [
    {
     "name": "stdout",
     "output_type": "stream",
     "text": [
      "['F23-' 'F24-26' 'F27-28' 'F29-32' 'F33-42' 'F43+' 'M22-' 'M23-26' 'M27-28'\n",
      " 'M29-31' 'M32-38' 'M39+']\n",
      "   xiaomi OPPO coolpad vivo samsung huawei meizu lenovo\n",
      "9    2147  554     448  466    1929   1938   444    361\n",
      "11   1766  441     338  396    1316   1406   455    254\n",
      "5    2440  712     410  700    1420   1508   947    333\n",
      "7    1929  675     360  692     857   1015   833    262\n",
      "8    1745  442     491  394    1777   1945   282    408\n",
      "10    796  299     119  345     590    428   179     82\n",
      "3    1379  397     223  350     964    932   443    183\n",
      "2    1098  429     143  414    1025    752   202    148\n",
      "6    1174  407     268  355    1360   1106   181    192\n",
      "1     946  741     218  801     682    620   326    166\n",
      "0     935  260     195  220    1026    784   156    185\n",
      "4     981  445     136  525     760    567   262    121\n",
      "   xiaomi OPPO coolpad vivo samsung huawei meizu lenovo\n",
      "0     935  260     195  220    1026    784   156    185\n",
      "1     946  741     218  801     682    620   326    166\n",
      "2    1098  429     143  414    1025    752   202    148\n",
      "3    1379  397     223  350     964    932   443    183\n",
      "4     981  445     136  525     760    567   262    121\n",
      "5    2440  712     410  700    1420   1508   947    333\n",
      "6    1174  407     268  355    1360   1106   181    192\n",
      "7    1929  675     360  692     857   1015   833    262\n",
      "8    1745  442     491  394    1777   1945   282    408\n",
      "9    2147  554     448  466    1929   1938   444    361\n",
      "10    796  299     119  345     590    428   179     82\n",
      "11   1766  441     338  396    1316   1406   455    254\n",
      "[ 0  1  2  3  4  5  6  7  8  9 10 11]\n"
     ]
    },
    {
     "data": {
      "image/png": "[encoded data removed]",
      "text/plain": [
       "<matplotlib.figure.Figure at 0x1d65649b6d8>"
      ]
     },
     "metadata": {},
     "output_type": "display_data"
    }
   ],
   "source": [
    "index_names = np.sort(dataframe2.index.values)\n",
    "print(index_names)\n",
    "index = [i in range(0,11)]\n",
    "\n",
    "df = dataframe2.copy()\n",
    "df.index = [9,11,5,7,8,10,3,2,6,1,0,4]\n",
    "print(df)\n",
    "\n",
    "df.sort_index(inplace=True)\n",
    "print(df)\n",
    "# Create a figure with a single subplot\n",
    "f, ax = plt.subplots(1, figsize=(15,12))\n",
    "\n",
    "# Set bar width at 1\n",
    "bar_width = 1\n",
    "\n",
    "# positions of the left bar-boundaries\n",
    "bar_l = [i for i in range(len(df[\"xiaomi\"]))] \n",
    "\n",
    "# positions of the x-axis ticks (center of the bars as bar labels)\n",
    "tick_pos = [i+(bar_width/2) for i in bar_l] \n",
    "\n",
    "# Create the total score for each participant\n",
    "columns = [df['xiaomi'], df['OPPO'], df['coolpad'], df[\"vivo\"],df[\"samsung\"],df[\"huawei\"],df[\"meizu\"],df[\"lenovo\"]]\n",
    "totals = [i1+i2+i3+i4+i5+i6+i7+i8 for i1,i2,i3,i4,i5,i6,i7,i8 in zip(df['xiaomi'], df['OPPO'], df['coolpad'], df[\"vivo\"],df[\"samsung\"],df[\"huawei\"],df[\"meizu\"],df[\"lenovo\"])]\n",
    "#print(totals)\n",
    "# Create the percentage of the total score the pre_score value for each participant was\n",
    "xia_rel = [i / j * 100 for  i,j in zip(df['xiaomi'], totals)]\n",
    "#print(xia_rel)\n",
    "# Create the percentage of the total score the mid_score value for each participant was\n",
    "oppo_rel = [i / j * 100 for  i,j in zip(df['OPPO'], totals)]\n",
    "#print(oppo_rel)\n",
    "# Create the percentage of the total score the post_score value for each participant was\n",
    "coolpad_rel = [i / j * 100 for  i,j in zip(df['coolpad'], totals)]\n",
    "\n",
    "# Create the percentage of the total score the post_score value for each participant was\n",
    "vivo_rel = [i / j * 100 for  i,j in zip(df['vivo'], totals)]\n",
    "\n",
    "# Create the percentage of the total score the post_score value for each participant was\n",
    "samsung_rel = [i / j * 100 for  i,j in zip(df['samsung'], totals)]\n",
    "\n",
    "# Create the percentage of the total score the post_score value for each participant was\n",
    "huawei_rel = [i / j * 100 for  i,j in zip(df['huawei'], totals)]\n",
    "\n",
    "# Create the percentage of the total score the post_score value for each participant was\n",
    "meizu_rel = [i / j * 100 for  i,j in zip(df['meizu'], totals)]\n",
    "\n",
    "# Create the percentage of the total score the post_score value for each participant was\n",
    "lenovo_rel = [i / j * 100 for  i,j in zip(df['lenovo'], totals)]\n",
    "\n",
    "names = [\"xiaomi\",\"OPPO\",\"coolpad\",\"vivo\",\"samsung\",\"huawei\",\"meizu\",\"lenovo\"]\n",
    "rels = [xia_rel,oppo_rel,coolpad_rel,vivo_rel,samsung_rel,huawei_rel,meizu_rel,lenovo_rel]\n",
    "colors = [\"#019600\",\"#00968e\",\"#f40c0c\",\"#0caef4\",\"#ff49ef\",\"#49ff5e\",\"#ffce49\",\"#666460\"]\n",
    "\n",
    "\n",
    "import copy\n",
    "relcopy = copy.deepcopy(rels)\n",
    "\n",
    "# sort after mean value highest\n",
    "rels.sort(key=lambda x: np.mean(x),reverse=True)\n",
    "\n",
    "\n",
    "for rel in range(1,2):\n",
    "# Create a bar chart in position bar_1\n",
    "    if rel==0:\n",
    "        btm=[0]*12\n",
    "    else:\n",
    "        btm=[sum(x) for x in zip(*rels[:rel])]\n",
    "     \n",
    "    idx = relcopy.index(rels[rel])\n",
    "    \n",
    "    ax.bar(bar_l, \n",
    "       # using mid_rel data\n",
    "       rels[rel], \n",
    "       # with pre_rel\n",
    "       #bottom=btm, \n",
    "       # labeled \n",
    "       #label=names[rel],\n",
    "       label=names[idx],\n",
    "       # with alpha\n",
    "       alpha=0.9, \n",
    "       # with color\n",
    "       #color=colors[rel],\n",
    "       color=colors[idx],\n",
    "       # with bar width\n",
    "       width=bar_width,\n",
    "       # with border color\n",
    "       edgecolor='white'\n",
    "       ) \n",
    "    \n",
    "# Set the ticks to be first names\n",
    "print(df.index.values)\n",
    "plt.xticks(tick_pos, index_names)\n",
    "ax.set_ylabel(\"Percentage\")\n",
    "ax.set_xlabel(\"\")\n",
    "\n",
    "# Let the borders of the graphic\n",
    "plt.xlim([min(tick_pos)-bar_width, max(tick_pos)+bar_width])\n",
    "plt.ylim(-10, 110)\n",
    "\n",
    "# rotate axis labels\n",
    "plt.setp(plt.gca().get_xticklabels(), rotation=45, horizontalalignment='right')\n",
    "\n",
    "\n",
    "import matplotlib.patches as mpatches\n",
    "\n",
    "#plt.legend([mpatches.Patch(color=colors[0],label=names[0])])\n",
    "           #,mpatches.Patch(color=colors[1],label=names[1])])\n",
    "\n",
    "    \n",
    "handle, label = ax.get_legend_handles_labels()    \n",
    "\n",
    "\n",
    "#red_patch = mpatches.Patch(color='red', label='The red data')\n",
    "#blue_patch = mpatches.Patch(color='blue', label='The blue data')\n",
    "\n",
    "#plt.legend(handles=[red_patch, blue_patch])\n",
    "\n",
    "#print(names)\n",
    "   \n",
    "patches = []   \n",
    "for i in range(0,8):\n",
    "    patch = mpatches.Patch(color=colors[i],label=names[i])\n",
    "    patches.append(patch)\n",
    "    \n",
    "plt.legend(handles=patches)\n",
    "\n",
    "ax.legend(loc='upper center', bbox_to_anchor=(0.5, 1.05),\n",
    "          ncol=3, fancybox=True, shadow=True)    \n",
    "    \n",
    "#p_handle = [mpatches.Patch(color='r', alpha=0.5, linewidth=0)]\n",
    "#p_label = [u'Entry Confidence Interval']\n",
    "#handle, label = ax.get_legend_handles_labels()\n",
    "#handles=handle+p_handle\n",
    "#labels=label+p_label\n",
    "    \n",
    "    \n",
    "    \n",
    "# shot plot\n",
    "plt.show()   "
   ]
  },
  {
   "cell_type": "markdown",
   "metadata": {},
   "source": [
    "Wieviel Prozent der Altersgruppe besitzen ein Samsung-Gerät?"
   ]
  },
  {
   "cell_type": "code",
   "execution_count": null,
   "metadata": {
    "collapsed": true
   },
   "outputs": [],
   "source": []
  },
  {
   "cell_type": "code",
   "execution_count": 328,
   "metadata": {
    "collapsed": false
   },
   "outputs": [
    {
     "data": {
      "text/plain": [
       "0.28807556080283353"
      ]
     },
     "execution_count": 328,
     "metadata": {},
     "output_type": "execute_result"
    }
   ],
   "source": [
    "2440/(2440  + 712  +   410 + 700   + 1420+   1508 +  947 +   333)"
   ]
  },
  {
   "cell_type": "code",
   "execution_count": 329,
   "metadata": {
    "collapsed": false
   },
   "outputs": [
    {
     "data": {
      "text/plain": [
       "0.258361864629971"
      ]
     },
     "execution_count": 329,
     "metadata": {},
     "output_type": "execute_result"
    }
   ],
   "source": [
    "981/(981  +445  +   136 + 525 +    760  +  567  + 262 +   121)"
   ]
  },
  {
   "cell_type": "code",
   "execution_count": 330,
   "metadata": {
    "collapsed": false
   },
   "outputs": [
    {
     "data": {
      "text/plain": [
       "0.2831040854034079"
      ]
     },
     "execution_count": 330,
     "metadata": {},
     "output_type": "execute_result"
    }
   ],
   "source": [
    "1379/(1379 + 397  +   223+  350  +   964  +  932  + 443  +  183)"
   ]
  },
  {
   "cell_type": "code",
   "execution_count": 256,
   "metadata": {
    "collapsed": false
   },
   "outputs": [
    {
     "name": "stdout",
     "output_type": "stream",
     "text": [
      "[26.025358189456508, 9.1794553614525842, 4.8866482903061756, 9.1253598491730195, 20.9766152072587, 19.010807902994834, 6.8420765321341959, 3.9536786672239845]\n",
      "100.0\n",
      "26.0253581895\n",
      "0\n",
      "[9.1794553614525842, 4.8866482903061756, 9.1253598491730195, 20.9766152072587, 19.010807902994834, 6.8420765321341959, 3.9536786672239845]\n"
     ]
    }
   ],
   "source": [
    "means = [0]*len(rels)\n",
    "for rel in range(0,len(rels)):\n",
    "    means[rel] = np.mean(rels[rel])\n",
    "print(means)\n",
    "print(sum(means))\n",
    "\n",
    "print(max(means))\n",
    "\n",
    "\n",
    "rm_idx = means.index(max(means))\n",
    "print(rm_idx)\n",
    "del means[rm_idx]\n",
    "print(means)"
   ]
  },
  {
   "cell_type": "code",
   "execution_count": 171,
   "metadata": {
    "collapsed": false
   },
   "outputs": [
    {
     "ename": "TypeError",
     "evalue": "unsupported operand type(s) for +: 'int' and 'tuple'",
     "output_type": "error",
     "traceback": [
      "\u001b[1;31m---------------------------------------------------------------------------\u001b[0m",
      "\u001b[1;31mTypeError\u001b[0m                                 Traceback (most recent call last)",
      "\u001b[1;32m<ipython-input-171-e3a2b21dc9a0>\u001b[0m in \u001b[0;36m<module>\u001b[1;34m()\u001b[0m\n\u001b[1;32m----> 1\u001b[1;33m \u001b[0msum\u001b[0m\u001b[1;33m(\u001b[0m\u001b[0mzip\u001b[0m\u001b[1;33m(\u001b[0m\u001b[0mrels\u001b[0m\u001b[1;33m[\u001b[0m\u001b[1;36m4\u001b[0m\u001b[1;33m:\u001b[0m\u001b[1;33m]\u001b[0m\u001b[1;33m)\u001b[0m\u001b[1;33m)\u001b[0m\u001b[1;33m\u001b[0m\u001b[0m\n\u001b[0m",
      "\u001b[1;31mTypeError\u001b[0m: unsupported operand type(s) for +: 'int' and 'tuple'"
     ]
    }
   ],
   "source": [
    "sum(zip(rels[4:]))"
   ]
  },
  {
   "cell_type": "code",
   "execution_count": 175,
   "metadata": {
    "collapsed": false
   },
   "outputs": [
    {
     "data": {
      "text/plain": [
       "[32.59321829371304,\n",
       " 34.635907093534215,\n",
       " 37.213695395513575,\n",
       " 39.31752982032312,\n",
       " 29.222340994120792,\n",
       " 38.58350951374207,\n",
       " 36.46068569082324,\n",
       " 36.2621705058181,\n",
       " 31.350386674598454,\n",
       " 37.48888888888889,\n",
       " 31.773464504121243,\n",
       " 37.55596523571241]"
      ]
     },
     "execution_count": 175,
     "metadata": {},
     "output_type": "execute_result"
    }
   ],
   "source": []
  },
  {
   "cell_type": "code",
   "execution_count": 165,
   "metadata": {
    "collapsed": false,
    "scrolled": false
   },
   "outputs": [
    {
     "name": "stdout",
     "output_type": "stream",
     "text": [
      "[6.685169542657174, 6.9209039548022595, 8.406139315230224, 10.191756001811868, 5.905932656333512, 10.535588442565187, 8.150277150482447, 10.187603894561862, 8.070592901050961, 16.466666666666665, 6.913055038553575, 11.719778772715301]\n",
      "[32.59321829371304, 34.635907093534215, 37.213695395513575, 39.31752982032312, 29.222340994120792, 38.58350951374207, 36.46068569082324, 36.2621705058181, 31.350386674598454, 37.48888888888889, 31.773464504121243, 37.55596523571241]\n"
     ]
    },
    {
     "data": {
      "image/png": "[encoded data removed]",
      "text/plain": [
       "<matplotlib.figure.Figure at 0x1d6571bcb38>"
      ]
     },
     "metadata": {},
     "output_type": "display_data"
    }
   ],
   "source": [
    "df = dataframe2.copy()\n",
    "# Create a figure with a single subplot\n",
    "f, ax = plt.subplots(1, figsize=(10,5))\n",
    "\n",
    "# Set bar width at 1\n",
    "bar_width = 1\n",
    "\n",
    "# positions of the left bar-boundaries\n",
    "bar_l = [i for i in range(len(df[\"xiaomi\"]))] \n",
    "\n",
    "# positions of the x-axis ticks (center of the bars as bar labels)\n",
    "tick_pos = [i+(bar_width/2) for i in bar_l] \n",
    "\n",
    "# Create the total score for each participant\n",
    "columns = [df['xiaomi'], df['OPPO'], df['coolpad'], df[\"vivo\"],df[\"samsung\"],df[\"huawei\"],df[\"meizu\"],df[\"lenovo\"]]\n",
    "totals = [i1+i2+i3+i4+i5+i6+i7+i8 for i1,i2,i3,i4,i5,i6,i7,i8 in zip(df['xiaomi'], df['OPPO'], df['coolpad'], df[\"vivo\"],df[\"samsung\"],df[\"huawei\"],df[\"meizu\"],df[\"lenovo\"])]\n",
    "#print(totals)\n",
    "# Create the percentage of the total score the pre_score value for each participant was\n",
    "xia_rel = [i / j * 100 for  i,j in zip(df['xiaomi'], totals)]\n",
    "#print(xia_rel)\n",
    "# Create the percentage of the total score the mid_score value for each participant was\n",
    "oppo_rel = [i / j * 100 for  i,j in zip(df['OPPO'], totals)]\n",
    "print(oppo_rel)\n",
    "# Create the percentage of the total score the post_score value for each participant was\n",
    "coolpad_rel = [i / j * 100 for  i,j in zip(df['coolpad'], totals)]\n",
    "\n",
    "# Create the percentage of the total score the post_score value for each participant was\n",
    "vivo_rel = [i / j * 100 for  i,j in zip(df['vivo'], totals)]\n",
    "\n",
    "# Create the percentage of the total score the post_score value for each participant was\n",
    "samsung_rel = [i / j * 100 for  i,j in zip(df['samsung'], totals)]\n",
    "\n",
    "# Create the percentage of the total score the post_score value for each participant was\n",
    "huawei_rel = [i / j * 100 for  i,j in zip(df['huawei'], totals)]\n",
    "\n",
    "# Create the percentage of the total score the post_score value for each participant was\n",
    "meizu_rel = [i / j * 100 for  i,j in zip(df['meizu'], totals)]\n",
    "\n",
    "# Create the percentage of the total score the post_score value for each participant was\n",
    "lenovo_rel = [i / j * 100 for  i,j in zip(df['lenovo'], totals)]\n",
    "\n",
    "names = [\"xiaomi\",\"OPPO\",\"coolpad\",\"vivo\",\"samsung\",\"huawei\",\"meizu\",\"lenovo\"]\n",
    "rels = [xia_rel,oppo_rel,coolpad_rel,vivo_rel,samsung_rel,huawei_rel,meizu_rel,lenovo_rel]\n",
    "#print(rels)\n",
    "colors = [\"#019600\",\"#00968e\",\"#f40c0c\",\"#0caef4\",\"#ff49ef\",\"#49ff5e\",\"#ffce49\",\"#666460\"]\n",
    "\n",
    "#for rel in range(0,len(rels)):\n",
    "    #ax.bar(bar_l,rels[rel],label = names[rel], alpha=0.9, color=colors[rel],width=bar_width,edgecolor=\"white\")\n",
    "\n",
    "#for rel in range(0,5):\n",
    "   # ax.bar(bar_l,rels[rel],label = names[rel], alpha=0.9, color=colors[rel],width=bar_width,edgecolor=\"white\")\n",
    "    \n",
    "bottom = [0] * 8\n",
    "\n",
    "\n",
    "for rel in range(0,len(rels))\n",
    "# Create a bar chart in position bar_1\n",
    "    if rel==0:\n",
    "        bottom=[0]*8\n",
    "    else:\n",
    "        bottom=zip(rels[rel:])\n",
    "        \n",
    "        \n",
    "        \n",
    "ax.bar(bar_l, \n",
    "       # using pre_rel data\n",
    "       rels[rel], \n",
    "       # labeled \n",
    "       label=names[0], \n",
    "       # with alpha\n",
    "       alpha=0.9, \n",
    "       # with color\n",
    "       color=colors[0],\n",
    "       # with bar width\n",
    "       width=bar_width,\n",
    "       # with border color\n",
    "       edgecolor='white'\n",
    "       )\n",
    "\n",
    "# Create a bar chart in position bar_1\n",
    "ax.bar(bar_l, \n",
    "       # using mid_rel data\n",
    "       rels[1], \n",
    "       # with pre_rel\n",
    "       bottom=rels[0], \n",
    "       # labeled \n",
    "       label=names[1], \n",
    "       # with alpha\n",
    "       alpha=0.9, \n",
    "       # with color\n",
    "       color=colors[1], \n",
    "       # with bar width\n",
    "       width=bar_width,\n",
    "       # with border color\n",
    "       edgecolor='white'\n",
    "       )\n",
    "bottom = [i+j for i,j in zip(rels[0],rels[1])]\n",
    "print(bottom)\n",
    "# Create a bar chart in position bar_1\n",
    "ax.bar(bar_l, \n",
    "       # using post_rel data\n",
    "       rels[2], \n",
    "       # with pre_rel and mid_rel on bottom\n",
    "       bottom=[i+j for i,j in zip(rels[0],rels[1])], \n",
    "       # labeled \n",
    "       label=names[2],\n",
    "       # with alpha\n",
    "       alpha=0.9, \n",
    "       # with color\n",
    "       color=colors[2], \n",
    "       # with bar width\n",
    "       width=bar_width,\n",
    "       # with border color\n",
    "       edgecolor='white'\n",
    "       )\n",
    "    \n",
    "    \n",
    "    \n",
    "    \n",
    "    \n",
    "    \n",
    "# Set the ticks to be first names\n",
    "plt.xticks(tick_pos, dataframe2.index.values)\n",
    "ax.set_ylabel(\"Percentage\")\n",
    "ax.set_xlabel(\"\")\n",
    "\n",
    "# Let the borders of the graphic\n",
    "plt.xlim([min(tick_pos)-bar_width, max(tick_pos)+bar_width])\n",
    "plt.ylim(-10, 110)\n",
    "\n",
    "# rotate axis labels\n",
    "plt.setp(plt.gca().get_xticklabels(), rotation=45, horizontalalignment='right')\n",
    "\n",
    "# shot plot\n",
    "plt.show()"
   ]
  },
  {
   "cell_type": "code",
   "execution_count": 166,
   "metadata": {
    "collapsed": false
   },
   "outputs": [
    {
     "data": {
      "text/plain": [
       "list"
      ]
     },
     "execution_count": 166,
     "metadata": {},
     "output_type": "execute_result"
    }
   ],
   "source": [
    "type(bottom)"
   ]
  },
  {
   "cell_type": "code",
   "execution_count": 167,
   "metadata": {
    "collapsed": false
   },
   "outputs": [
    {
     "name": "stdout",
     "output_type": "stream",
     "text": [
      "[32.59321829371304, 34.635907093534215, 37.213695395513575, 39.31752982032312, 29.222340994120792, 38.58350951374207, 36.46068569082324, 36.2621705058181, 31.350386674598454, 37.48888888888889, 31.773464504121243, 37.55596523571241]\n"
     ]
    }
   ],
   "source": [
    "print(bottom)"
   ]
  },
  {
   "cell_type": "code",
   "execution_count": 149,
   "metadata": {
    "collapsed": false
   },
   "outputs": [
    {
     "data": {
      "text/plain": [
       "[23.277422468927238,\n",
       " 20.652856246076585,\n",
       " 16.76505312868949,\n",
       " 12.939755397855956,\n",
       " 23.743987172634952,\n",
       " 20.7892882311487,\n",
       " 19.790597413262166,\n",
       " 24.341011636190927,\n",
       " 26.96807455879437,\n",
       " 15.155555555555555,\n",
       " 27.279978729061423,\n",
       " 20.015801948907033]"
      ]
     },
     "execution_count": 149,
     "metadata": {},
     "output_type": "execute_result"
    }
   ],
   "source": [
    "samsung_rel"
   ]
  },
  {
   "cell_type": "code",
   "execution_count": 141,
   "metadata": {
    "collapsed": false
   },
   "outputs": [
    {
     "data": {
      "text/html": [
       "<div>\n",
       "<table border=\"1\" class=\"dataframe\">\n",
       "  <thead>\n",
       "    <tr style=\"text-align: right;\">\n",
       "      <th></th>\n",
       "      <th>first_name</th>\n",
       "      <th>pre_score</th>\n",
       "      <th>mid_score</th>\n",
       "      <th>post_score</th>\n",
       "    </tr>\n",
       "  </thead>\n",
       "  <tbody>\n",
       "    <tr>\n",
       "      <th>0</th>\n",
       "      <td>Jason</td>\n",
       "      <td>4</td>\n",
       "      <td>25</td>\n",
       "      <td>5</td>\n",
       "    </tr>\n",
       "    <tr>\n",
       "      <th>1</th>\n",
       "      <td>Molly</td>\n",
       "      <td>24</td>\n",
       "      <td>94</td>\n",
       "      <td>43</td>\n",
       "    </tr>\n",
       "    <tr>\n",
       "      <th>2</th>\n",
       "      <td>Tina</td>\n",
       "      <td>31</td>\n",
       "      <td>57</td>\n",
       "      <td>23</td>\n",
       "    </tr>\n",
       "    <tr>\n",
       "      <th>3</th>\n",
       "      <td>Jake</td>\n",
       "      <td>2</td>\n",
       "      <td>62</td>\n",
       "      <td>23</td>\n",
       "    </tr>\n",
       "    <tr>\n",
       "      <th>4</th>\n",
       "      <td>Amy</td>\n",
       "      <td>3</td>\n",
       "      <td>70</td>\n",
       "      <td>51</td>\n",
       "    </tr>\n",
       "  </tbody>\n",
       "</table>\n",
       "</div>"
      ],
      "text/plain": [
       "  first_name  pre_score  mid_score  post_score\n",
       "0      Jason          4         25           5\n",
       "1      Molly         24         94          43\n",
       "2       Tina         31         57          23\n",
       "3       Jake          2         62          23\n",
       "4        Amy          3         70          51"
      ]
     },
     "execution_count": 141,
     "metadata": {},
     "output_type": "execute_result"
    }
   ],
   "source": [
    "raw_data = {'first_name': ['Jason', 'Molly', 'Tina', 'Jake', 'Amy'],\n",
    "        'pre_score': [4, 24, 31, 2, 3],\n",
    "        'mid_score': [25, 94, 57, 62, 70],\n",
    "        'post_score': [5, 43, 23, 23, 51]}\n",
    "df = pd.DataFrame(raw_data, columns = ['first_name', 'pre_score', 'mid_score', 'post_score'])\n",
    "df"
   ]
  },
  {
   "cell_type": "code",
   "execution_count": 143,
   "metadata": {
    "collapsed": false
   },
   "outputs": [
    {
     "name": "stdout",
     "output_type": "stream",
     "text": [
      "[34, 161, 111, 87, 124]\n"
     ]
    },
    {
     "data": {
      "image/png": "[encoded data removed]",
      "text/plain": [
       "<matplotlib.figure.Figure at 0x1d65fdafbe0>"
      ]
     },
     "metadata": {},
     "output_type": "display_data"
    }
   ],
   "source": [
    "# Create a figure with a single subplot\n",
    "f, ax = plt.subplots(1, figsize=(10,5))\n",
    "\n",
    "# Set bar width at 1\n",
    "bar_width = 1\n",
    "\n",
    "# positions of the left bar-boundaries\n",
    "bar_l = [i for i in range(len(df['pre_score']))] \n",
    "\n",
    "# positions of the x-axis ticks (center of the bars as bar labels)\n",
    "tick_pos = [i+(bar_width/2) for i in bar_l] \n",
    "\n",
    "# Create the total score for each participant\n",
    "totals = [i+j+k for i,j,k in zip(df['pre_score'], df['mid_score'], df['post_score'])]\n",
    "print(totals)\n",
    "# Create the percentage of the total score the pre_score value for each participant was\n",
    "pre_rel = [i / j * 100 for  i,j in zip(df['pre_score'], totals)]\n",
    "\n",
    "# Create the percentage of the total score the mid_score value for each participant was\n",
    "mid_rel = [i / j * 100 for  i,j in zip(df['mid_score'], totals)]\n",
    "\n",
    "# Create the percentage of the total score the post_score value for each participant was\n",
    "post_rel = [i / j * 100 for  i,j in zip(df['post_score'], totals)]\n",
    "\n",
    "# Create a bar chart in position bar_1\n",
    "ax.bar(bar_l, \n",
    "       # using pre_rel data\n",
    "       pre_rel, \n",
    "       # labeled \n",
    "       label='Pre Score', \n",
    "       # with alpha\n",
    "       alpha=0.9, \n",
    "       # with color\n",
    "       color='#019600',\n",
    "       # with bar width\n",
    "       width=bar_width,\n",
    "       # with border color\n",
    "       edgecolor='white'\n",
    "       )\n",
    "\n",
    "# Create a bar chart in position bar_1\n",
    "ax.bar(bar_l, \n",
    "       # using mid_rel data\n",
    "       mid_rel, \n",
    "       # with pre_rel\n",
    "       bottom=pre_rel, \n",
    "       # labeled \n",
    "       label='Mid Score', \n",
    "       # with alpha\n",
    "       alpha=0.9, \n",
    "       # with color\n",
    "       color='#3C5F5A', \n",
    "       # with bar width\n",
    "       width=bar_width,\n",
    "       # with border color\n",
    "       edgecolor='white'\n",
    "       )\n",
    "\n",
    "# Create a bar chart in position bar_1\n",
    "ax.bar(bar_l, \n",
    "       # using post_rel data\n",
    "       post_rel, \n",
    "       # with pre_rel and mid_rel on bottom\n",
    "       bottom=[i+j for i,j in zip(pre_rel, mid_rel)], \n",
    "       # labeled \n",
    "       label='Post Score',\n",
    "       # with alpha\n",
    "       alpha=0.9, \n",
    "       # with color\n",
    "       color='#219AD8', \n",
    "       # with bar width\n",
    "       width=bar_width,\n",
    "       # with border color\n",
    "       edgecolor='white'\n",
    "       )\n",
    "\n",
    "# Set the ticks to be first names\n",
    "plt.xticks(tick_pos, df['first_name'])\n",
    "ax.set_ylabel(\"Percentage\")\n",
    "ax.set_xlabel(\"\")\n",
    "\n",
    "# Let the borders of the graphic\n",
    "plt.xlim([min(tick_pos)-bar_width, max(tick_pos)+bar_width])\n",
    "plt.ylim(-10, 110)\n",
    "\n",
    "# rotate axis labels\n",
    "plt.setp(plt.gca().get_xticklabels(), rotation=45, horizontalalignment='right')\n",
    "\n",
    "# shot plot\n",
    "plt.show()"
   ]
  },
  {
   "cell_type": "code",
   "execution_count": 94,
   "metadata": {
    "collapsed": false,
    "scrolled": true
   },
   "outputs": [
    {
     "data": {
      "text/plain": [
       "<matplotlib.figure.Figure at 0x1d65726c7b8>"
      ]
     },
     "metadata": {},
     "output_type": "display_data"
    },
    {
     "data": {
      "image/png": "[encoded data removed]",
      "text/plain": [
       "<matplotlib.figure.Figure at 0x1d65a62c278>"
      ]
     },
     "metadata": {},
     "output_type": "display_data"
    }
   ],
   "source": [
    "plt.figure(); \n",
    "dataframe.sort_index().plot(kind=\"bar\");"
   ]
  },
  {
   "cell_type": "code",
   "execution_count": 109,
   "metadata": {
    "collapsed": false
   },
   "outputs": [],
   "source": [
    "a = np.array(range(0,len(dataframe.index)))"
   ]
  },
  {
   "cell_type": "code",
   "execution_count": 110,
   "metadata": {
    "collapsed": false
   },
   "outputs": [
    {
     "data": {
      "text/plain": [
       "array([ 0,  1,  2,  3,  4,  5,  6,  7,  8,  9, 10, 11])"
      ]
     },
     "execution_count": 110,
     "metadata": {},
     "output_type": "execute_result"
    }
   ],
   "source": [
    "a"
   ]
  },
  {
   "cell_type": "code",
   "execution_count": 107,
   "metadata": {
    "collapsed": true
   },
   "outputs": [
    {
     "data": {
      "text/plain": [
       "xiaomi     2147\n",
       "OPPO        554\n",
       "coolpad     448\n",
       "vivo        466\n",
       "samsung    1929\n",
       "huawei     1938\n",
       "meizu       444\n",
       "nubia        71\n",
       "youmi        36\n",
       "HTC         133\n",
       "gionee      129\n",
       "lenovo      361\n",
       "sony         96\n",
       "moto         13\n",
       "LG           51\n",
       "oneplus      24\n",
       "zte         144\n",
       "Ktouch       20\n",
       "yuxin        26\n",
       "ccmc         58\n",
       "TCL          30\n",
       "hisense      25\n",
       "lshi        132\n",
       "奇酷           30\n",
       "hammer       17\n",
       "dowe         13\n",
       "Name: M32-38, dtype: object"
      ]
     },
     "execution_count": 107,
     "metadata": {},
     "output_type": "execute_result"
    }
   ],
   "source": [
    "dataframe.iloc[0,:]"
   ]
  },
  {
   "cell_type": "code",
   "execution_count": 106,
   "metadata": {
    "collapsed": false
   },
   "outputs": [
    {
     "data": {
      "text/plain": [
       "array([2147.0, 554.0, 448.0, 466.0, 1929.0, 1938.0, 444.0, 71.0, 36.0,\n",
       "       133.0, 129.0, 361.0, 96.0, 13.0, 51.0, 24.0, 144.0, 20.0, 26.0,\n",
       "       58.0, 30.0, 25.0, 132.0, 30.0, 17.0, 13.0], dtype=object)"
      ]
     },
     "execution_count": 106,
     "metadata": {},
     "output_type": "execute_result"
    }
   ],
   "source": [
    "dataframe.iloc[0,:].as_matrix()"
   ]
  },
  {
   "cell_type": "code",
   "execution_count": 117,
   "metadata": {
    "collapsed": false
   },
   "outputs": [
    {
     "ename": "ValueError",
     "evalue": "x and y must be the same size",
     "output_type": "error",
     "traceback": [
      "\u001b[1;31m---------------------------------------------------------------------------\u001b[0m",
      "\u001b[1;31mValueError\u001b[0m                                Traceback (most recent call last)",
      "\u001b[1;32m<ipython-input-117-279978285f14>\u001b[0m in \u001b[0;36m<module>\u001b[1;34m()\u001b[0m\n\u001b[0;32m     19\u001b[0m \u001b[1;32mfor\u001b[0m \u001b[0mdata\u001b[0m\u001b[1;33m,\u001b[0m \u001b[0mcolor\u001b[0m\u001b[1;33m,\u001b[0m \u001b[0mgroup\u001b[0m \u001b[1;32min\u001b[0m \u001b[0mzip\u001b[0m\u001b[1;33m(\u001b[0m\u001b[0mdata\u001b[0m\u001b[1;33m,\u001b[0m \u001b[0mcolors\u001b[0m\u001b[1;33m,\u001b[0m \u001b[0mgroups\u001b[0m\u001b[1;33m)\u001b[0m\u001b[1;33m:\u001b[0m\u001b[1;33m\u001b[0m\u001b[0m\n\u001b[0;32m     20\u001b[0m     \u001b[0mx\u001b[0m\u001b[1;33m,\u001b[0m \u001b[0my\u001b[0m \u001b[1;33m=\u001b[0m \u001b[0mdata\u001b[0m\u001b[1;33m\u001b[0m\u001b[0m\n\u001b[1;32m---> 21\u001b[1;33m     \u001b[0max\u001b[0m\u001b[1;33m.\u001b[0m\u001b[0mscatter\u001b[0m\u001b[1;33m(\u001b[0m\u001b[0mx\u001b[0m\u001b[1;33m,\u001b[0m \u001b[0my\u001b[0m\u001b[1;33m,\u001b[0m \u001b[0malpha\u001b[0m\u001b[1;33m=\u001b[0m\u001b[1;36m0.8\u001b[0m\u001b[1;33m,\u001b[0m \u001b[0mc\u001b[0m\u001b[1;33m=\u001b[0m\u001b[0mcolor\u001b[0m\u001b[1;33m,\u001b[0m \u001b[0medgecolors\u001b[0m\u001b[1;33m=\u001b[0m\u001b[1;34m'none'\u001b[0m\u001b[1;33m,\u001b[0m \u001b[0ms\u001b[0m\u001b[1;33m=\u001b[0m\u001b[1;36m30\u001b[0m\u001b[1;33m,\u001b[0m \u001b[0mlabel\u001b[0m\u001b[1;33m=\u001b[0m\u001b[0mgroup\u001b[0m\u001b[1;33m)\u001b[0m\u001b[1;33m\u001b[0m\u001b[0m\n\u001b[0m\u001b[0;32m     22\u001b[0m \u001b[1;33m\u001b[0m\u001b[0m\n\u001b[0;32m     23\u001b[0m \u001b[0mplt\u001b[0m\u001b[1;33m.\u001b[0m\u001b[0mtitle\u001b[0m\u001b[1;33m(\u001b[0m\u001b[1;34m'Matplot scatter plot'\u001b[0m\u001b[1;33m)\u001b[0m\u001b[1;33m\u001b[0m\u001b[0m\n",
      "\u001b[1;32mC:\\Anaconda3Python\\lib\\site-packages\\matplotlib\\__init__.py\u001b[0m in \u001b[0;36minner\u001b[1;34m(ax, *args, **kwargs)\u001b[0m\n\u001b[0;32m   1809\u001b[0m                     warnings.warn(msg % (label_namer, func.__name__),\n\u001b[0;32m   1810\u001b[0m                                   RuntimeWarning, stacklevel=2)\n\u001b[1;32m-> 1811\u001b[1;33m             \u001b[1;32mreturn\u001b[0m \u001b[0mfunc\u001b[0m\u001b[1;33m(\u001b[0m\u001b[0max\u001b[0m\u001b[1;33m,\u001b[0m \u001b[1;33m*\u001b[0m\u001b[0margs\u001b[0m\u001b[1;33m,\u001b[0m \u001b[1;33m**\u001b[0m\u001b[0mkwargs\u001b[0m\u001b[1;33m)\u001b[0m\u001b[1;33m\u001b[0m\u001b[0m\n\u001b[0m\u001b[0;32m   1812\u001b[0m         \u001b[0mpre_doc\u001b[0m \u001b[1;33m=\u001b[0m \u001b[0minner\u001b[0m\u001b[1;33m.\u001b[0m\u001b[0m__doc__\u001b[0m\u001b[1;33m\u001b[0m\u001b[0m\n\u001b[0;32m   1813\u001b[0m         \u001b[1;32mif\u001b[0m \u001b[0mpre_doc\u001b[0m \u001b[1;32mis\u001b[0m \u001b[1;32mNone\u001b[0m\u001b[1;33m:\u001b[0m\u001b[1;33m\u001b[0m\u001b[0m\n",
      "\u001b[1;32mC:\\Anaconda3Python\\lib\\site-packages\\matplotlib\\axes\\_axes.py\u001b[0m in \u001b[0;36mscatter\u001b[1;34m(self, x, y, s, c, marker, cmap, norm, vmin, vmax, alpha, linewidths, verts, edgecolors, **kwargs)\u001b[0m\n\u001b[0;32m   3838\u001b[0m         \u001b[0my\u001b[0m \u001b[1;33m=\u001b[0m \u001b[0mnp\u001b[0m\u001b[1;33m.\u001b[0m\u001b[0mma\u001b[0m\u001b[1;33m.\u001b[0m\u001b[0mravel\u001b[0m\u001b[1;33m(\u001b[0m\u001b[0my\u001b[0m\u001b[1;33m)\u001b[0m\u001b[1;33m\u001b[0m\u001b[0m\n\u001b[0;32m   3839\u001b[0m         \u001b[1;32mif\u001b[0m \u001b[0mx\u001b[0m\u001b[1;33m.\u001b[0m\u001b[0msize\u001b[0m \u001b[1;33m!=\u001b[0m \u001b[0my\u001b[0m\u001b[1;33m.\u001b[0m\u001b[0msize\u001b[0m\u001b[1;33m:\u001b[0m\u001b[1;33m\u001b[0m\u001b[0m\n\u001b[1;32m-> 3840\u001b[1;33m             \u001b[1;32mraise\u001b[0m \u001b[0mValueError\u001b[0m\u001b[1;33m(\u001b[0m\u001b[1;34m\"x and y must be the same size\"\u001b[0m\u001b[1;33m)\u001b[0m\u001b[1;33m\u001b[0m\u001b[0m\n\u001b[0m\u001b[0;32m   3841\u001b[0m \u001b[1;33m\u001b[0m\u001b[0m\n\u001b[0;32m   3842\u001b[0m         \u001b[0ms\u001b[0m \u001b[1;33m=\u001b[0m \u001b[0mnp\u001b[0m\u001b[1;33m.\u001b[0m\u001b[0mma\u001b[0m\u001b[1;33m.\u001b[0m\u001b[0mravel\u001b[0m\u001b[1;33m(\u001b[0m\u001b[0ms\u001b[0m\u001b[1;33m)\u001b[0m  \u001b[1;31m# This doesn't have to match x, y in size.\u001b[0m\u001b[1;33m\u001b[0m\u001b[0m\n",
      "\u001b[1;31mValueError\u001b[0m: x and y must be the same size"
     ]
    },
    {
     "data": {
      "image/png": "[encoded data removed]",
      "text/plain": [
       "<matplotlib.figure.Figure at 0x1d65fbbbfd0>"
      ]
     },
     "metadata": {},
     "output_type": "display_data"
    }
   ],
   "source": [
    "import numpy as np\n",
    "import matplotlib.pyplot as plt\n",
    " \n",
    "# Create data\n",
    "N = 60\n",
    "groupIndices = np.array(range(0,len(dataframe.index)))\n",
    "g1 = (np.array(range(0,12)), dataframe.iloc[0,:].as_matrix())\n",
    "g2 = (np.array(range(0,12)), dataframe.iloc[1,:].as_matrix())\n",
    "g3 = (np.array(range(0,12)), dataframe.iloc[2,:].as_matrix())\n",
    " \n",
    "data = (g1, g2, g3)\n",
    "colors = (\"red\", \"green\", \"blue\")\n",
    "groups = (\"coffee\", \"tea\", \"water\") \n",
    " \n",
    "# Create plot\n",
    "fig = plt.figure()\n",
    "ax = fig.add_subplot(1, 1, 1, axisbg=\"1.0\")\n",
    " \n",
    "for data, color, group in zip(data, colors, groups):\n",
    "    x, y = data\n",
    "    ax.scatter(x, y, alpha=0.8, c=color, edgecolors='none', s=30, label=group)\n",
    " \n",
    "plt.title('Matplot scatter plot')\n",
    "plt.legend(loc=2)\n",
    "plt.show()"
   ]
  },
  {
   "cell_type": "markdown",
   "metadata": {},
   "source": [
    "## Spatio-Temporale Analyse des Verhaltens einzelner User\n",
    "\n",
    "1. Wählen Sie aus der *events*-Tabelle ein Device, für das mindestens 30 events mit zugewiesenen Geokoordinaten vorliegen.\n",
    "2. Stellen Sie alle Aufenthaltsorte des zu diesem Device gehörenden Users in einer *gmaps-Heatmap* dar. Informationen hierzu finden Sie in der [gmaps-Doku]( https://github.com/pbugnion/gmaps). Für den Zugriff auf gmaps benötigen Sie einen Google-API-Key (siehe [gmaps authentication](http://jupyter-gmaps.readthedocs.io/en/latest/authentication.html))\n",
    "3. Clustern Sie die 2-dimensionalen Geodaten des ausgewählten Users mit dem [DBSCAN-Algorithmus von scikit-learn](http://scikit-learn.org/stable/auto_examples/cluster/plot_dbscan.html). Die Parameter des Algorithmus sind so zu wählen, dass wesentlich unterschiedliche Orte des Users in unterschiedlichen Clustern landen.\n",
    "4. Stellen Sie den zeitlichen Verlauf der Events des ausgewählten Users im unten dargestellten Stil visuell dar. Auf der horizontalen Achse ist die Zeit relativ zur Zeit des ersten Events in Sekunden dargestellt. Auf der vertikalen Achse ist die Anzahl der bisherigen Events des Users aufgetragen. Mit jedem Event wird der Wert auf der vertikalen Achse um 1 erhöht. Die Farbe der Marker im Graph gibt den Aufenthaltscluster an. Für jeden in der vorigen Teilaufgabe gefundenen Aufenthaltscluster wird eine unterschiedliche Farbe benutzt (Im Beispiel unten wurden nur 2 Cluster gefunden). Diskutieren Sie das Verhalten des Users anhand des Graphs.\n",
    "\n",
    "![Abbildung Zeitliches Auftreten der Events](https://www.hdm-stuttgart.de/~maucher/ipnotebooks/DataMining//Bilder/tempbehave.PNG \"Events über der Zeit\")"
   ]
  },
  {
   "cell_type": "markdown",
   "metadata": {
    "collapsed": true
   },
   "source": [
    "# Feature Extraction"
   ]
  },
  {
   "cell_type": "markdown",
   "metadata": {},
   "source": [
    "Anmerkung: In den vorigen Aufgaben war das Vorgehen relativ konkret vorgegeben. In den folgenden Aufgaben sind die Vorgaben bewußt knapp gehalten. Ihre Kreativität ist gefragt.\n",
    "\n",
    "1. Überlegen Sie sich aus welchen Merkmalen, die aus den vorhandenen Daten extrahiert werden können, möglichst gut die Gender-Age-Group vorhergesagt werden kann.\n",
    "2. Extahieren Sie diese Merkmale aus den Daten für möglichst viele (mindestens 20.000) User (devices) aus der Tabelle *gender_age_train*.  "
   ]
  },
  {
   "cell_type": "markdown",
   "metadata": {},
   "source": [
    "# Gender-Age-Group Prediction\n",
    "1. In der vorigen Aufgabe wurde für jeden User (device) ein Merkmalsvektor berechnet. Die Menge der Merkmalsvektoren aller User aus der Tabelle *gender_age_train* bildet die Eingabe-Matrix $X$ für die Klassifikationsalgorithmen. Die Soll-Ausgabe Vektor $y$ wird durch die *gender_age_group* der User gebildet. Bringen Sie die Matrix aller Eingabevektoren in eine Form, in der\n",
    "    * alle kategorialen Parameter *One-Hot*-encodiert sind [Scikit-Learn One-Hot-Encoder](http://scikit-learn.org/stable/modules/generated/sklearn.preprocessing.OneHotEncoder.html#sklearn.preprocessing.OneHotEncoder).\n",
    "    * alle Merkmale eine Varianz von 1 aufweisen. Benützen Sie hierfür die [Scikit-Learn Methode scale](http://scikit-learn.org/stable/modules/generated/sklearn.preprocessing.scale.html#sklearn.preprocessing.scale).\n",
    "2. Teilen Sie die Datensätze in $X$ und $y$ in eine Trainings- und eine Testpartition auf - im Verhältnis $3/4$ für Training, $1/4$ für Test. \n",
    "3. Trainieren Sie mit der Trainingspartition ein [Multilayer-Perzeptron](http://scikit-learn.org/stable/modules/neural_networks_supervised.html).\n",
    "4. Testen Sie das gelernte Modell mit der Testpartition. Für die Auswertung sollte die [Accurracy](http://scikit-learn.org/stable/modules/generated/sklearn.metrics.accuracy_score.html#sklearn.metrics.accuracy_score) und die [Confusion Matrix](http://scikit-learn.org/stable/modules/generated/sklearn.metrics.confusion_matrix.html#sklearn.metrics.confusion_matrix) bestimmt werden. Finden Sie eine Parametereinstellung, die zu einer möglichst guten Accuracy führt. Interpretieren Sie die Confusion Matrix.\n",
    "5. Wenden Sie nun eine [5-fache Kreuzvalidierung](http://scikit-learn.org/stable/modules/generated/sklearn.model_selection.cross_val_score.html#sklearn.model_selection.cross_val_score) an und bestimmen Sie damit eine möglichst gute Parametereinstellung.\n",
    "6. Mit welchen Parametern erzielen Sie die beste Accurracy? Wie hoch ist diese dann? Diskutieren Sie das Ergebnis.\n"
   ]
  }
 ],
 "metadata": {
  "anaconda-cloud": {},
  "kernelspec": {
   "display_name": "Python [Root]",
   "language": "python",
   "name": "Python [Root]"
  },
  "language_info": {
   "codemirror_mode": {
    "name": "ipython",
    "version": 3
   },
   "file_extension": ".py",
   "mimetype": "text/x-python",
   "name": "python",
   "nbconvert_exporter": "python",
   "pygments_lexer": "ipython3",
   "version": "3.5.2"
  },
  "nav_menu": {},
  "toc": {
   "navigate_menu": true,
   "number_sections": true,
   "sideBar": true,
   "threshold": 6,
   "toc_cell": false,
   "toc_section_display": "block",
   "toc_window_display": true
  }
 },
 "nbformat": 4,
 "nbformat_minor": 1
}
